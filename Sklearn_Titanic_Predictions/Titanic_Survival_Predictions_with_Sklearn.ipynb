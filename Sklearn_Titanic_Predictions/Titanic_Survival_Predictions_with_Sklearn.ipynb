{
  "nbformat": 4,
  "nbformat_minor": 0,
  "metadata": {
    "colab": {
      "provenance": []
    },
    "kernelspec": {
      "display_name": "Python 3",
      "language": "python",
      "name": "python3"
    },
    "language_info": {
      "codemirror_mode": {
        "name": "ipython",
        "version": 3
      },
      "file_extension": ".py",
      "mimetype": "text/x-python",
      "name": "python",
      "nbconvert_exporter": "python",
      "pygments_lexer": "ipython3",
      "version": "3.7.6"
    }
  },
  "cells": [
    {
      "cell_type": "code",
      "metadata": {
        "id": "3Vn0GtnroyLK",
        "colab": {
          "base_uri": "https://localhost:8080/"
        },
        "outputId": "a6ae81ea-f1ef-462e-c03a-c0379170d4b7"
      },
      "source": [
        "import numpy as np\n",
        "import pandas as pd\n",
        "\n",
        "from sklearn.datasets import fetch_openml\n",
        "\n",
        "titanic = fetch_openml(name='Titanic', version=1)\n",
        "titanic = pd.concat([titanic['data'], titanic['target']], axis=1)"
      ],
      "execution_count": null,
      "outputs": [
        {
          "output_type": "stream",
          "name": "stderr",
          "text": [
            "/usr/local/lib/python3.9/dist-packages/sklearn/datasets/_openml.py:968: FutureWarning: The default value of `parser` will change from `'liac-arff'` to `'auto'` in 1.4. You can set `parser='auto'` to silence this warning. Therefore, an `ImportError` will be raised from 1.4 if the dataset is dense and pandas is not installed. Note that the pandas parser may return different data types. See the Notes Section in fetch_openml's API doc for details.\n",
            "  warn(\n"
          ]
        }
      ]
    },
    {
      "cell_type": "markdown",
      "metadata": {
        "id": "1WbPDB3mI7MO"
      },
      "source": [
        "**Problem 1.⭐⭐**\n",
        "The goal of this and the following problems is to eventually build an algorithm that can *predict* whether a person with given characteristics would have survived the sinking of the Titanic or not.\n",
        "\n",
        "This question requires you to complete the function ``function1`` so that:\n",
        "\n",
        "* only the data of **pclass**, **sex**, **age**, **survived** columns remain from the total **titanic** data set,\n",
        "* Make the **sex** column name **male** and contain numeric data (female -> 0, male -> 1). See the [OrdinalEncoder] (https://scikit-learn.org/stable/modules/generated/sklearn.preprocessing.OrdinalEncoder.html#sklearn.preprocessing.OrdinalEncoder) class.\n",
        "* split the received data into train (80%), test (20%) parts after mixing using the sklearn library [train_test_split](https://scikit-learn.org/stable/modules/generated/sklearn.model_selection.train_test_split.html) function with ``random_state=0`` parameter. As a result of the operation of the function, 4 data sets should be obtained\n",
        "* X_train (pandas.DataFrame)\n",
        "* X_test (pandas.DataFrame)\n",
        "* y_train (pandas.Series)\n",
        "* y_test (pandas.Series)"
      ]
    },
    {
      "cell_type": "code",
      "source": [
        "from sklearn.preprocessing import OrdinalEncoder\n",
        "from sklearn.model_selection import train_test_split\n",
        "\n",
        "def function1(data):\n",
        "  columns_to_keep = ['pclass', 'sex', 'age', 'survived']\n",
        "  data.drop(columns=[col for col in data.columns if col not in columns_to_keep], inplace=True)\n",
        "  encoded_col = OrdinalEncoder().fit_transform(data['sex'].values.reshape(-1, 1))\n",
        "  data = data.assign(sex=encoded_col).rename(columns={'sex': 'male'})\n",
        "  X_train, X_test, y_train, y_test = train_test_split(data[['pclass', 'male', 'age']], data['survived'], random_state=42, test_size=0.20, shuffle=True)\n",
        "  return (X_train, X_test, y_train, y_test)"
      ],
      "metadata": {
        "id": "2V9dAiZOqhOy"
      },
      "execution_count": null,
      "outputs": []
    },
    {
      "cell_type": "code",
      "metadata": {
        "id": "cTN0Ve60jEqT",
        "colab": {
          "base_uri": "https://localhost:8080/"
        },
        "outputId": "818f8d8a-9c5c-47b1-d985-f6796578ef75"
      },
      "source": [
        "X_train, X_test, y_train, y_test = function1(data=titanic)\n",
        "\n",
        "print(X_train.shape)\n",
        "print(X_test.shape)\n",
        "print(y_train.shape)\n",
        "print(y_test.shape)"
      ],
      "execution_count": null,
      "outputs": [
        {
          "output_type": "stream",
          "name": "stdout",
          "text": [
            "(1047, 3)\n",
            "(262, 3)\n",
            "(1047,)\n",
            "(262,)\n"
          ]
        }
      ]
    },
    {
      "cell_type": "markdown",
      "source": [
        "**Problem 2.⭐⭐** If you noticed (if not, notice 👀) there are missing values in the data obtained in the previous question.\n",
        "\n",
        "This question asks you to write a function named ``function2`` that will fill in those missing data using [SimpleImputer](https://scikit-learn.org/stable/modules/generated/sklearn.impute.SimpleImputer.html#sklearn .impute.SimpleImputer) class, and the strategy variable will be given by ``function2`` function.\n",
        "\n",
        "As a result of the operation of this function, copies of data sets with missing values from the previous request should be created."
      ],
      "metadata": {
        "id": "F1TFnw9fcgch"
      }
    },
    {
      "cell_type": "code",
      "source": [
        "from sklearn.impute import SimpleImputer\n",
        "\n",
        "def function2(X_train, X_test, y_train, y_test, strategy):\n",
        "  simple_imputer = SimpleImputer(missing_values=np.nan, strategy=strategy)\n",
        "  simple_imputer.fit(X_train)\n",
        "  X_train_ = pd.DataFrame(simple_imputer.transform(X_train), columns=X_train.columns, index=X_train.index)\n",
        "  X_test_ = pd.DataFrame(simple_imputer.transform(X_test), columns=X_test.columns, index=X_test.index)\n",
        "  y_train_ = y_train.copy()\n",
        "  y_test_ = y_test.copy()\n",
        "  return (X_train_, X_test_, y_train_, y_test_)"
      ],
      "metadata": {
        "id": "rqBL-n2beFkn"
      },
      "execution_count": null,
      "outputs": []
    },
    {
      "cell_type": "code",
      "source": [
        "X_train_, X_test_, y_train_, y_test_ = function2(X_train, X_test, y_train, y_test,\n",
        "                                             strategy='mean')\n",
        "print(np.isnan(X_train_).sum())\n",
        "print(np.isnan(X_test_).sum())"
      ],
      "metadata": {
        "id": "YDDA8NdDeGbv",
        "colab": {
          "base_uri": "https://localhost:8080/"
        },
        "outputId": "14b46b34-4d9f-4a37-c08b-54df3eabb0b2"
      },
      "execution_count": null,
      "outputs": [
        {
          "output_type": "stream",
          "name": "stdout",
          "text": [
            "pclass    0\n",
            "male      0\n",
            "age       0\n",
            "dtype: int64\n",
            "pclass    0\n",
            "male      0\n",
            "age       0\n",
            "dtype: int64\n"
          ]
        }
      ]
    },
    {
      "cell_type": "markdown",
      "source": [
        "**Problem 3.⭐⭐⭐** This request asks to create a multi-class classification model (as ``class``) named **BasicLinearClassifier** that works as follows:\n",
        "\n",
        "* during training, a **representative-vector** of that class is calculated for each class (class/label) on the set of training data (training data)\n",
        "\n",
        "* during prediction (prediction/inference), the distance of each test data to representative-vectors of all classes is calculated and the class whose representative-vector is closest to the test data is selected as a prediction\n",
        "\n",
        "* algorithm must have 2 hyper-parameters\n",
        "   * **class_representative**. can accept the *mean* or *median* value, depending on which the representative-vector calculation procedure will be determined, that is, in the case of mean, the representative-vector of each class will be the average of the data belonging to that class, and in the case of median, the median vector.\n",
        "   * **distance**: can accept *L1* or *L2*, depending on which the distance between the arbitrary data and the representative-vector will be defined; In the case of L1, according to the L1 norm, and in the case of L2, according to the L2 norm."
      ],
      "metadata": {
        "id": "wahYpxE0mA_B"
      }
    },
    {
      "cell_type": "code",
      "source": [
        "from sklearn.base import BaseEstimator, ClassifierMixin\n",
        "from sklearn.utils.validation import check_X_y, check_array, check_is_fitted\n",
        "from sklearn.utils.multiclass import unique_labels\n",
        "\n",
        "class BasicLinearClassifier(ClassifierMixin, BaseEstimator):\n",
        "  \"\"\"\n",
        "  Basic Linear Classifier\n",
        "  for multi-class classification case.\n",
        "  \"\"\"\n",
        "  def __init__(self, class_representative='mean', distance='L2'):\n",
        "      self.class_representative = class_representative\n",
        "      self.distance = distance\n",
        "\n",
        "  def fit(self, X, y):\n",
        "    \"\"\"\n",
        "    Fits the model on given data, which in this case means\n",
        "    calculating the class means/medians and storing them\n",
        "    for later usage in 'predict' method.\n",
        "\n",
        "    :param numpy.ndarray X: input data of size (nr_samples, nr_features)\n",
        "    :param numpy.ndarray y: labels of size (nr_data_points,)\n",
        "    \"\"\"\n",
        "    X, y = check_X_y(X, y)\n",
        "    self.classes_ = unique_labels(y)\n",
        "    self.class_reprs_ = {}\n",
        "    for class_ in self.classes_:\n",
        "        X_class = X[y == class_]\n",
        "        if self.class_representative == 'mean':\n",
        "            class_repr = np.apply_along_axis(np.mean, 0, X_class)\n",
        "        elif self.class_representative == 'median':\n",
        "            class_repr = np.apply_along_axis(np.median, 0, X_class)\n",
        "        else:\n",
        "            raise ValueError('Invalid value for class representative')\n",
        "        self.class_reprs_[class_] = class_repr\n",
        "    return self\n",
        "\n",
        "  def predict(self, X):\n",
        "    \"\"\"\n",
        "    Performs predictions on the given data points\n",
        "    using the estimated class means/medians.\n",
        "\n",
        "    :param numpy.ndarray X: input data for testing (nr_samples, nr_features)\n",
        "    :returns: labels of size (nr_samples,)\n",
        "    :rtype: numpy.ndarray or pandas.Series\n",
        "    \"\"\"\n",
        "    check_is_fitted(self)\n",
        "    X = check_array(X)\n",
        "    y_pred = np.empty(X.shape[0], dtype=str)\n",
        "\n",
        "    for i in range(X.shape[0]):\n",
        "      dists = []\n",
        "      for class_, class_vector in self.class_reprs_.items():\n",
        "        dist = self.calculate_distance(X[i], class_vector)\n",
        "        dists.append(dist)\n",
        "      y_pred[i] = self.classes_[np.argmin(dists)]\n",
        "    return y_pred\n",
        "\n",
        "  def calculate_distance(self, a, b):\n",
        "    if self.distance == \"L1\":\n",
        "        return np.sum(np.abs(a - b))\n",
        "    elif self.distance == \"L2\":\n",
        "        return np.linalg.norm(a - b)\n",
        "    else:\n",
        "        raise ValueError('Invalid distance type')\n",
        "\n",
        "  def score(self, X, y):\n",
        "    y_pred = self.predict(X)\n",
        "    return np.mean(y_pred == y)"
      ],
      "metadata": {
        "id": "ojkWS9GBQJvn"
      },
      "execution_count": null,
      "outputs": []
    },
    {
      "cell_type": "code",
      "source": [
        "from sklearn.utils.estimator_checks import check_estimator\n",
        "model = BasicLinearClassifier()\n",
        "# check_estimator(model)\n",
        "model.fit(X_train_, y_train_)\n",
        "model.score(X_test_, y_test_)"
      ],
      "metadata": {
        "id": "n8LN7pugPizp",
        "colab": {
          "base_uri": "https://localhost:8080/"
        },
        "outputId": "d9890ef6-4ee9-460f-a92c-2ae9c5a104e9"
      },
      "execution_count": null,
      "outputs": [
        {
          "output_type": "execute_result",
          "data": {
            "text/plain": [
              "0.5687022900763359"
            ]
          },
          "metadata": {},
          "execution_count": 164
        }
      ]
    },
    {
      "cell_type": "markdown",
      "source": [
        "**Problem 4.⭐⭐⭐** This request requires a function named ``function4`` to be built inside which a sklearn Pipeline consisting of SimpleImputer and BasicLinearClassifier will be built and GridSearch (cv=5) will be performed on the following parameters:\n",
        "\n",
        "* SimpleImputer:\n",
        "   * strategy = ['mean', 'median', 'most_frequent']\n",
        "* BasicLinearClassifier\n",
        "   * class_representative = ['mean', 'median']\n",
        "   * distance = ['L1', 'L2'].\n",
        "\n",
        "The function should return the cv_results_ attribute of the object created from GridSearchCV as a pandas.DataFrame. This function should be given the training data obtained as a result of Problem 1."
      ],
      "metadata": {
        "id": "TrGM0EzrWrt5"
      }
    },
    {
      "cell_type": "code",
      "source": [
        "from sklearn.model_selection import GridSearchCV\n",
        "from sklearn.pipeline import make_pipeline\n",
        "\n",
        "def function4(X_train, y_train):\n",
        "  pipe = make_pipeline(SimpleImputer(), BasicLinearClassifier())\n",
        "  params = {'simpleimputer__strategy': ['mean', 'median', 'most_frequent'],\n",
        "            'basiclinearclassifier__class_representative': ['mean', 'median'],\n",
        "            'basiclinearclassifier__distance': ['L1', 'L2']}\n",
        "  grid = GridSearchCV(pipe,\n",
        "                      param_grid=params)\n",
        "  grid.fit(X_train, y_train)\n",
        "  df = pd.DataFrame(grid.cv_results_)\n",
        "  return df"
      ],
      "metadata": {
        "id": "18oLxQzCWzES"
      },
      "execution_count": null,
      "outputs": []
    },
    {
      "cell_type": "code",
      "source": [
        "function4(X_train, y_train).head()"
      ],
      "metadata": {
        "id": "oDGec5MEdir_",
        "colab": {
          "base_uri": "https://localhost:8080/",
          "height": 270
        },
        "outputId": "9d77dff9-02ca-42dd-f600-a5d70c355614"
      },
      "execution_count": null,
      "outputs": [
        {
          "output_type": "execute_result",
          "data": {
            "text/plain": [
              "   mean_fit_time  std_fit_time  mean_score_time  std_score_time  \\\n",
              "0       0.005904      0.000961         0.007196        0.001058   \n",
              "1       0.005176      0.000520         0.005758        0.000130   \n",
              "2       0.005095      0.000064         0.005956        0.000513   \n",
              "3       0.004561      0.000109         0.005570        0.000080   \n",
              "4       0.005240      0.000276         0.006527        0.001537   \n",
              "\n",
              "  param_basiclinearclassifier__class_representative  \\\n",
              "0                                              mean   \n",
              "1                                              mean   \n",
              "2                                              mean   \n",
              "3                                              mean   \n",
              "4                                              mean   \n",
              "\n",
              "  param_basiclinearclassifier__distance param_simpleimputer__strategy  \\\n",
              "0                                    L1                          mean   \n",
              "1                                    L1                        median   \n",
              "2                                    L1                 most_frequent   \n",
              "3                                    L2                          mean   \n",
              "4                                    L2                        median   \n",
              "\n",
              "                                              params  split0_test_score  \\\n",
              "0  {'basiclinearclassifier__class_representative'...           0.766667   \n",
              "1  {'basiclinearclassifier__class_representative'...           0.757143   \n",
              "2  {'basiclinearclassifier__class_representative'...           0.647619   \n",
              "3  {'basiclinearclassifier__class_representative'...           0.590476   \n",
              "4  {'basiclinearclassifier__class_representative'...           0.590476   \n",
              "\n",
              "   split1_test_score  split2_test_score  split3_test_score  split4_test_score  \\\n",
              "0           0.504762           0.511962           0.535885           0.755981   \n",
              "1           0.390476           0.459330           0.406699           0.727273   \n",
              "2           0.409524           0.454545           0.430622           0.736842   \n",
              "3           0.504762           0.507177           0.535885           0.593301   \n",
              "4           0.390476           0.459330           0.411483           0.497608   \n",
              "\n",
              "   mean_test_score  std_test_score  rank_test_score  \n",
              "0         0.615051        0.119922                7  \n",
              "1         0.548184        0.160326                8  \n",
              "2         0.535830        0.131554               10  \n",
              "3         0.546320        0.038795                9  \n",
              "4         0.469875        0.070907               11  "
            ],
            "text/html": [
              "\n",
              "  <div id=\"df-d1f1e5ed-8e36-4fa1-bb43-093407f997fb\">\n",
              "    <div class=\"colab-df-container\">\n",
              "      <div>\n",
              "<style scoped>\n",
              "    .dataframe tbody tr th:only-of-type {\n",
              "        vertical-align: middle;\n",
              "    }\n",
              "\n",
              "    .dataframe tbody tr th {\n",
              "        vertical-align: top;\n",
              "    }\n",
              "\n",
              "    .dataframe thead th {\n",
              "        text-align: right;\n",
              "    }\n",
              "</style>\n",
              "<table border=\"1\" class=\"dataframe\">\n",
              "  <thead>\n",
              "    <tr style=\"text-align: right;\">\n",
              "      <th></th>\n",
              "      <th>mean_fit_time</th>\n",
              "      <th>std_fit_time</th>\n",
              "      <th>mean_score_time</th>\n",
              "      <th>std_score_time</th>\n",
              "      <th>param_basiclinearclassifier__class_representative</th>\n",
              "      <th>param_basiclinearclassifier__distance</th>\n",
              "      <th>param_simpleimputer__strategy</th>\n",
              "      <th>params</th>\n",
              "      <th>split0_test_score</th>\n",
              "      <th>split1_test_score</th>\n",
              "      <th>split2_test_score</th>\n",
              "      <th>split3_test_score</th>\n",
              "      <th>split4_test_score</th>\n",
              "      <th>mean_test_score</th>\n",
              "      <th>std_test_score</th>\n",
              "      <th>rank_test_score</th>\n",
              "    </tr>\n",
              "  </thead>\n",
              "  <tbody>\n",
              "    <tr>\n",
              "      <th>0</th>\n",
              "      <td>0.005904</td>\n",
              "      <td>0.000961</td>\n",
              "      <td>0.007196</td>\n",
              "      <td>0.001058</td>\n",
              "      <td>mean</td>\n",
              "      <td>L1</td>\n",
              "      <td>mean</td>\n",
              "      <td>{'basiclinearclassifier__class_representative'...</td>\n",
              "      <td>0.766667</td>\n",
              "      <td>0.504762</td>\n",
              "      <td>0.511962</td>\n",
              "      <td>0.535885</td>\n",
              "      <td>0.755981</td>\n",
              "      <td>0.615051</td>\n",
              "      <td>0.119922</td>\n",
              "      <td>7</td>\n",
              "    </tr>\n",
              "    <tr>\n",
              "      <th>1</th>\n",
              "      <td>0.005176</td>\n",
              "      <td>0.000520</td>\n",
              "      <td>0.005758</td>\n",
              "      <td>0.000130</td>\n",
              "      <td>mean</td>\n",
              "      <td>L1</td>\n",
              "      <td>median</td>\n",
              "      <td>{'basiclinearclassifier__class_representative'...</td>\n",
              "      <td>0.757143</td>\n",
              "      <td>0.390476</td>\n",
              "      <td>0.459330</td>\n",
              "      <td>0.406699</td>\n",
              "      <td>0.727273</td>\n",
              "      <td>0.548184</td>\n",
              "      <td>0.160326</td>\n",
              "      <td>8</td>\n",
              "    </tr>\n",
              "    <tr>\n",
              "      <th>2</th>\n",
              "      <td>0.005095</td>\n",
              "      <td>0.000064</td>\n",
              "      <td>0.005956</td>\n",
              "      <td>0.000513</td>\n",
              "      <td>mean</td>\n",
              "      <td>L1</td>\n",
              "      <td>most_frequent</td>\n",
              "      <td>{'basiclinearclassifier__class_representative'...</td>\n",
              "      <td>0.647619</td>\n",
              "      <td>0.409524</td>\n",
              "      <td>0.454545</td>\n",
              "      <td>0.430622</td>\n",
              "      <td>0.736842</td>\n",
              "      <td>0.535830</td>\n",
              "      <td>0.131554</td>\n",
              "      <td>10</td>\n",
              "    </tr>\n",
              "    <tr>\n",
              "      <th>3</th>\n",
              "      <td>0.004561</td>\n",
              "      <td>0.000109</td>\n",
              "      <td>0.005570</td>\n",
              "      <td>0.000080</td>\n",
              "      <td>mean</td>\n",
              "      <td>L2</td>\n",
              "      <td>mean</td>\n",
              "      <td>{'basiclinearclassifier__class_representative'...</td>\n",
              "      <td>0.590476</td>\n",
              "      <td>0.504762</td>\n",
              "      <td>0.507177</td>\n",
              "      <td>0.535885</td>\n",
              "      <td>0.593301</td>\n",
              "      <td>0.546320</td>\n",
              "      <td>0.038795</td>\n",
              "      <td>9</td>\n",
              "    </tr>\n",
              "    <tr>\n",
              "      <th>4</th>\n",
              "      <td>0.005240</td>\n",
              "      <td>0.000276</td>\n",
              "      <td>0.006527</td>\n",
              "      <td>0.001537</td>\n",
              "      <td>mean</td>\n",
              "      <td>L2</td>\n",
              "      <td>median</td>\n",
              "      <td>{'basiclinearclassifier__class_representative'...</td>\n",
              "      <td>0.590476</td>\n",
              "      <td>0.390476</td>\n",
              "      <td>0.459330</td>\n",
              "      <td>0.411483</td>\n",
              "      <td>0.497608</td>\n",
              "      <td>0.469875</td>\n",
              "      <td>0.070907</td>\n",
              "      <td>11</td>\n",
              "    </tr>\n",
              "  </tbody>\n",
              "</table>\n",
              "</div>\n",
              "      <button class=\"colab-df-convert\" onclick=\"convertToInteractive('df-d1f1e5ed-8e36-4fa1-bb43-093407f997fb')\"\n",
              "              title=\"Convert this dataframe to an interactive table.\"\n",
              "              style=\"display:none;\">\n",
              "        \n",
              "  <svg xmlns=\"http://www.w3.org/2000/svg\" height=\"24px\"viewBox=\"0 0 24 24\"\n",
              "       width=\"24px\">\n",
              "    <path d=\"M0 0h24v24H0V0z\" fill=\"none\"/>\n",
              "    <path d=\"M18.56 5.44l.94 2.06.94-2.06 2.06-.94-2.06-.94-.94-2.06-.94 2.06-2.06.94zm-11 1L8.5 8.5l.94-2.06 2.06-.94-2.06-.94L8.5 2.5l-.94 2.06-2.06.94zm10 10l.94 2.06.94-2.06 2.06-.94-2.06-.94-.94-2.06-.94 2.06-2.06.94z\"/><path d=\"M17.41 7.96l-1.37-1.37c-.4-.4-.92-.59-1.43-.59-.52 0-1.04.2-1.43.59L10.3 9.45l-7.72 7.72c-.78.78-.78 2.05 0 2.83L4 21.41c.39.39.9.59 1.41.59.51 0 1.02-.2 1.41-.59l7.78-7.78 2.81-2.81c.8-.78.8-2.07 0-2.86zM5.41 20L4 18.59l7.72-7.72 1.47 1.35L5.41 20z\"/>\n",
              "  </svg>\n",
              "      </button>\n",
              "      \n",
              "  <style>\n",
              "    .colab-df-container {\n",
              "      display:flex;\n",
              "      flex-wrap:wrap;\n",
              "      gap: 12px;\n",
              "    }\n",
              "\n",
              "    .colab-df-convert {\n",
              "      background-color: #E8F0FE;\n",
              "      border: none;\n",
              "      border-radius: 50%;\n",
              "      cursor: pointer;\n",
              "      display: none;\n",
              "      fill: #1967D2;\n",
              "      height: 32px;\n",
              "      padding: 0 0 0 0;\n",
              "      width: 32px;\n",
              "    }\n",
              "\n",
              "    .colab-df-convert:hover {\n",
              "      background-color: #E2EBFA;\n",
              "      box-shadow: 0px 1px 2px rgba(60, 64, 67, 0.3), 0px 1px 3px 1px rgba(60, 64, 67, 0.15);\n",
              "      fill: #174EA6;\n",
              "    }\n",
              "\n",
              "    [theme=dark] .colab-df-convert {\n",
              "      background-color: #3B4455;\n",
              "      fill: #D2E3FC;\n",
              "    }\n",
              "\n",
              "    [theme=dark] .colab-df-convert:hover {\n",
              "      background-color: #434B5C;\n",
              "      box-shadow: 0px 1px 3px 1px rgba(0, 0, 0, 0.15);\n",
              "      filter: drop-shadow(0px 1px 2px rgba(0, 0, 0, 0.3));\n",
              "      fill: #FFFFFF;\n",
              "    }\n",
              "  </style>\n",
              "\n",
              "      <script>\n",
              "        const buttonEl =\n",
              "          document.querySelector('#df-d1f1e5ed-8e36-4fa1-bb43-093407f997fb button.colab-df-convert');\n",
              "        buttonEl.style.display =\n",
              "          google.colab.kernel.accessAllowed ? 'block' : 'none';\n",
              "\n",
              "        async function convertToInteractive(key) {\n",
              "          const element = document.querySelector('#df-d1f1e5ed-8e36-4fa1-bb43-093407f997fb');\n",
              "          const dataTable =\n",
              "            await google.colab.kernel.invokeFunction('convertToInteractive',\n",
              "                                                     [key], {});\n",
              "          if (!dataTable) return;\n",
              "\n",
              "          const docLinkHtml = 'Like what you see? Visit the ' +\n",
              "            '<a target=\"_blank\" href=https://colab.research.google.com/notebooks/data_table.ipynb>data table notebook</a>'\n",
              "            + ' to learn more about interactive tables.';\n",
              "          element.innerHTML = '';\n",
              "          dataTable['output_type'] = 'display_data';\n",
              "          await google.colab.output.renderOutput(dataTable, element);\n",
              "          const docLink = document.createElement('div');\n",
              "          docLink.innerHTML = docLinkHtml;\n",
              "          element.appendChild(docLink);\n",
              "        }\n",
              "      </script>\n",
              "    </div>\n",
              "  </div>\n",
              "  "
            ]
          },
          "metadata": {},
          "execution_count": 166
        }
      ]
    },
    {
      "cell_type": "code",
      "source": [],
      "metadata": {
        "id": "uQVys8v5re_z"
      },
      "execution_count": null,
      "outputs": []
    }
  ]
}