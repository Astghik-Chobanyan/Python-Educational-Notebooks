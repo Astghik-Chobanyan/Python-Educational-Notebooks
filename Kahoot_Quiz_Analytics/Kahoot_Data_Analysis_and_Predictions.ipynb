{
  "nbformat": 4,
  "nbformat_minor": 0,
  "metadata": {
    "colab": {
      "provenance": []
    },
    "kernelspec": {
      "name": "python3",
      "display_name": "Python 3"
    },
    "language_info": {
      "name": "python"
    }
  },
  "cells": [
    {
      "cell_type": "markdown",
      "source": [
        "In all of the problems below, the subject of study is the answer data (8 .csv files) for each class you \"created\" (in the Kahoot environment), which you can import by running this command:"
      ],
      "metadata": {
        "id": "2llMXDU2vhmS"
      }
    },
    {
      "cell_type": "code",
      "source": [
        "!wget https://raw.githubusercontent.com/NshanPotikyan/Dasa1Doom/master/files/midterm1.zip\n",
        "!unzip midterm1.zip"
      ],
      "metadata": {
        "id": "92WxCtjsXDci",
        "colab": {
          "base_uri": "https://localhost:8080/"
        },
        "outputId": "fe3508d4-3865-4939-e5e6-1c62ba44e090"
      },
      "execution_count": null,
      "outputs": [
        {
          "output_type": "stream",
          "name": "stdout",
          "text": [
            "--2023-04-03 14:46:21--  https://raw.githubusercontent.com/NshanPotikyan/Dasa1Doom/master/files/midterm1.zip\n",
            "Resolving raw.githubusercontent.com (raw.githubusercontent.com)... 185.199.108.133, 185.199.109.133, 185.199.110.133, ...\n",
            "Connecting to raw.githubusercontent.com (raw.githubusercontent.com)|185.199.108.133|:443... connected.\n",
            "HTTP request sent, awaiting response... 200 OK\n",
            "Length: 22873 (22K) [application/zip]\n",
            "Saving to: ‘midterm1.zip.1’\n",
            "\n",
            "\rmidterm1.zip.1        0%[                    ]       0  --.-KB/s               \rmidterm1.zip.1      100%[===================>]  22.34K  --.-KB/s    in 0.001s  \n",
            "\n",
            "2023-04-03 14:46:22 (29.6 MB/s) - ‘midterm1.zip.1’ saved [22873/22873]\n",
            "\n",
            "Archive:  midterm1.zip\n",
            "replace gender.csv? [y]es, [n]o, [A]ll, [N]one, [r]ename: "
          ]
        }
      ]
    },
    {
      "cell_type": "markdown",
      "source": [
        "Each kahoot{i}.csv file contains the following data about the ith kahoot:\n",
        "\n",
        "* question_id - is the identifier of the question\n",
        "* student_id - is the student identifier\n",
        "* correct - contains a value of 0 or 1 and indicates whether the given student answered the question correctly (correct=1) or not (correct=0)\n",
        "* time - shows the time spent on the question in seconds\n",
        "\n",
        "| question_id |\tstudent_id |\tcorrect\t| time |\n",
        "| --- | --- | --- | --- |\n",
        "| 1 |\t27|\t1\t| 9.488 |\n",
        "| 1 |\t28|\t1\t| 4.795 |\n",
        "| 1 |\t25|\t1\t| 3.873 |\n",
        "| 1 |\t24|\t1\t| 10.771 |\n",
        "| 1 |\t23|\t1\t| 4.418 |\n",
        "| 1 |\t22|\t1\t| 5.688 |\n",
        "| 1 |\t32|\t1\t| 3.935 |\n",
        "| 1 |\t1\t| 1 |\t3.929 |\n",
        "| 1 |\t35 |\t0\t| 30.0 |\n",
        "| ... |\n",
        "\n",
        "Each kahoot{i}_questions.csv file contains the following data about the ith kahoot:\n",
        "\n",
        "* question_id - is the identifier of the question\n",
        "* question - is the wording of the question\n",
        "* answer1,2,3,4 - columns contain 4 answer options\n",
        "* total_time - shows the time allocated to the question in seconds\n",
        "\n",
        "A ``gender.csv`` file is also provided, which contains the gender data of each student."
      ],
      "metadata": {
        "id": "-jhXWcilBmYS"
      }
    },
    {
      "cell_type": "code",
      "source": [
        "import numpy as np\n",
        "import pandas as pd"
      ],
      "metadata": {
        "id": "V1n6tBNDFoB5"
      },
      "execution_count": null,
      "outputs": []
    },
    {
      "cell_type": "markdown",
      "source": [
        "**Problem 1.⭐** It is required to complete the ``function1`` function so that it takes the kahoots data of all classes (kahoot{i}.csv) and combines them to create one table, where the data will be in the following format:\n",
        "\n",
        "| kahoot_id | question_id |\tstudent_id |\tcorrect\t| time |\n",
        "| --- | --- | --- | --- | --- |\n",
        "| 1 | 1 |\t27|\t1\t| 9.488 |\n",
        "| 1 | 1 |\t28|\t1\t| 4.795 |\n",
        "| 1 | 1 |\t25|\t1\t| 3.873 |\n",
        "|  ...  |\n",
        "| 8 | 1 |\t1\t| 1 |\t3.929 |\n",
        "| 8 | 1 |\t35 |\t0\t| 30.0 |\n",
        "\n",
        "The function should\n",
        "\n",
        "* return the resulting table as a pandas.DataFrame\n",
        "* work similarly on kahoot{i}_questions.csv files.\n"
      ],
      "metadata": {
        "id": "Qi3kVjmB2adW"
      }
    },
    {
      "cell_type": "code",
      "source": [
        "def function1(file_names):\n",
        "  dfs = []\n",
        "  for file_name in file_names:\n",
        "    df = pd.read_csv(file_name)\n",
        "    dfs.append(df)\n",
        "  final_df = pd.concat(dfs)\n",
        "  final_df.insert(0, 'kahoot_id', pd.concat([pd.Series([idx]*len(df)) for idx, df in enumerate(dfs, start=1)]))\n",
        "  final_df.reset_index(drop=True, inplace=True)\n",
        "  return final_df"
      ],
      "metadata": {
        "id": "ZPYE-PXN2bJu"
      },
      "execution_count": null,
      "outputs": []
    },
    {
      "cell_type": "code",
      "source": [
        "students_data = function1(file_names=[f'kahoot{idx}.csv' for idx in range(1, 9)])\n",
        "questions_data = function1(file_names=[f'kahoot{idx}_questions.csv' for idx in range(1, 9)])\n",
        "print(students_data.head())\n",
        "print(students_data.tail())\n",
        "print(questions_data.head())\n",
        "print(questions_data.tail())"
      ],
      "metadata": {
        "id": "ado6_0Sx2eWg",
        "colab": {
          "base_uri": "https://localhost:8080/"
        },
        "outputId": "3c85e615-e73d-45e1-ddb1-6cc40f365c5f"
      },
      "execution_count": null,
      "outputs": [
        {
          "output_type": "stream",
          "name": "stdout",
          "text": [
            "   kahoot_id  question_id  student_id  correct    time\n",
            "0          1            1          27        1   9.488\n",
            "1          1            1          28        1   4.795\n",
            "2          1            1          25        1   3.873\n",
            "3          1            1          24        1  10.771\n",
            "4          1            1          23        1   4.418\n",
            "      kahoot_id  question_id  student_id  correct    time\n",
            "2075          8           10          17        1  23.136\n",
            "2076          8           10          26        0  38.939\n",
            "2077          8           10          31        1  24.857\n",
            "2078          8           10           7        0  48.455\n",
            "2079          8           10           2        0  16.124\n",
            "   kahoot_id  question_id                                           question  \\\n",
            "0          1            1  Նշվածներից ո՞րն է տվյալների պատկերման գրադարան...   \n",
            "1          1            2  Նշվածներից ո՞րն է տվյալների մաքրման գործընթացի...   \n",
            "2          1            3                    Ի՞նչ է այս գծապատկերի անվանումը   \n",
            "3          1            4  Ո՞նց է կոչվում վեբ կայքերի HTML կոդից տվյալներ...   \n",
            "4          1            5  Python-ում նշված ծրագրային գրադարաններից ո՞րը ...   \n",
            "\n",
            "                   answer1                answer2               answer3  \\\n",
            "0                   Pandas                Seaborn                 Numpy   \n",
            "1  թերի թվյալների հեռացում  outlier-ների հեռացում  տառասխալների ուղղում   \n",
            "2                 Box plot              Histogram           Basket plot   \n",
            "3           Web Collection           Web Cleaning         Web Scrapping   \n",
            "4            BeautifulSoup               Selenium               sklearn   \n",
            "\n",
            "             answer4  total_time  \n",
            "0            Sklearn        30.0  \n",
            "1  նշվածներից բոլորը        60.0  \n",
            "2       Scatter plot        30.0  \n",
            "3        Web Scoring        30.0  \n",
            "4           requests        30.0  \n",
            "    kahoot_id  question_id                                           question  \\\n",
            "75          8            6  Նշվածներից ո՞րն է սկբնարժեքավորող մեթոդի ճիշտ ...   \n",
            "76          8            7                  Ի՞նչ կլինի հետևյալ կոդի արդյունքը   \n",
            "77          8            8                  Ի՞նչ կլինի հետևյալ կոդի արդյունքը   \n",
            "78          8            9                  Ի՞նչ կլինի հետևյալ կոդի արդյունքը   \n",
            "79          8           10                  Ի՞նչ կլինի հետևյալ կոդի արդյունքը   \n",
            "\n",
            "                                          answer1  \\\n",
            "75                   def __init__(title, author):   \n",
            "76  title Ռանչպարների կանչը, author Խաչիկ Դաշտենց   \n",
            "77                                    Ցտեսություն   \n",
            "78                          count.test = 0 k = 25   \n",
            "79      Error, որովհետև օբյեկտը ճիշտ րի սահմանված   \n",
            "\n",
            "                                            answer2  \\\n",
            "75               def __init__(self, title, author):   \n",
            "76  author: Խաչիկ Դաշտենց, title: Ռանչպարների կանչը   \n",
            "77                                          Ողջույն   \n",
            "78                             count.test = 0 k = 0   \n",
            "79                                     first method   \n",
            "\n",
            "                                            answer3  \\\n",
            "75                                  def __init__():   \n",
            "76  title: Խաչիկ Դաշտենց, author: Ռանչպարների կանչը   \n",
            "77                                      ցտեսություն   \n",
            "78                            count.test = 25 k = 0   \n",
            "79               Error, որովհետև չկա __init__ մեթոդ   \n",
            "\n",
            "                                            answer4  total_time  \n",
            "75                   __init__(self, title, author):        60.0  \n",
            "76  title: Ռանչպարների կանչը, author: Խաչիկ Դաշտենց        60.0  \n",
            "77                                            Error        60.0  \n",
            "78                                            Error        60.0  \n",
            "79                               Նշվածներից որ մեկը        60.0  \n"
          ]
        }
      ]
    },
    {
      "cell_type": "markdown",
      "source": [
        "**Problem 2.⭐** What is required is to complete the ``function2`` function so that it takes the data obtained in **Problem 1** and returns pandas.Series, where\n",
        "each value represents the identifier of a student who\n",
        "* participated in all classes' quizzes and on average answered the questions the fastest (``fast answers``)\n",
        "\n",
        "* participated in only two kahuti (``rare visitor``)\n",
        "\n",
        "* gave the most correct answers on average (``most correct answers``)\n",
        "\n",
        "* is the slowest to answer questions on average (\"slow answers\")\n",
        "\n",
        "The final row should look like this, where the corresponding student IDs should be in place of the x's:\n",
        "\n",
        "| | |\n",
        "| --- | --- |\n",
        "| fast answers | x |\n",
        "| rare visitor | x |\n",
        "| most correct answers | x |\n",
        "| slow answers | x |"
      ],
      "metadata": {
        "id": "DkbymHnJS0gm"
      }
    },
    {
      "cell_type": "code",
      "source": [
        "def function2(data):\n",
        "  result_dict = {}\n",
        "  grouped_df = data.groupby(by=['kahoot_id', 'student_id'])\n",
        "  mean_times_spend = grouped_df.apply(lambda x: x[x[\"correct\"] == 1][\"time\"].mean())\n",
        "  students = mean_times_spend.reset_index()['student_id'].value_counts()\n",
        "  kahoot_counts = len(data[\"kahoot_id\"].unique())\n",
        "  students_participated_all = students[students == kahoot_counts].index.tolist()\n",
        "  filtered_df = data[data[\"student_id\"].isin(students_participated_all)]\n",
        "  filtered_grouped = filtered_df.groupby(\"student_id\")\n",
        "  mean_filtered = filtered_grouped.apply(lambda x: x[x[\"correct\"] == 1][\"time\"].mean())\n",
        "  fastest_student = mean_filtered.idxmin()\n",
        "  result_dict['fast answers'] = fastest_student\n",
        "  result_dict['rare visitor'] = students[students == 2].index.tolist()[0]\n",
        "  mean_correct = data.groupby(\"student_id\")[\"correct\"].mean()\n",
        "  result_dict['most correct answers'] = mean_correct[mean_correct == mean_correct.max()].index.tolist()[0]\n",
        "  mean_time = data.groupby(\"student_id\")[\"time\"].mean()\n",
        "  result_dict['slow answers'] = mean_time[mean_time == mean_time.max()].index.tolist()[0]\n",
        "  return pd.Series(result_dict)"
      ],
      "metadata": {
        "id": "lHjsCbxJS0lg"
      },
      "execution_count": null,
      "outputs": []
    },
    {
      "cell_type": "code",
      "source": [
        "print(function2(students_data))"
      ],
      "metadata": {
        "id": "bToIoe_4S0p-",
        "colab": {
          "base_uri": "https://localhost:8080/"
        },
        "outputId": "204312c4-297d-4486-97af-ea25308a246f"
      },
      "execution_count": null,
      "outputs": [
        {
          "output_type": "stream",
          "name": "stdout",
          "text": [
            "fast answers             2\n",
            "rare visitor            13\n",
            "most correct answers    27\n",
            "slow answers            21\n",
            "dtype: int64\n"
          ]
        }
      ]
    },
    {
      "cell_type": "markdown",
      "source": [
        "**Problem 3.⭐⭐** Modify the ``function3`` function so that it takes the data obtained in **Problem 1** and returns a table where the indexes are the student IDs and the columns are the proportions of correct answers to each box. For example, if a student answered 2 out of 10 questions correctly in the first class, then the corresponding value will be 0.2, and if he did not participate, then 0 (he had 0 correct answers) and so on.\n",
        "\n",
        "The table should also include the data of students who did not participate in any class, given that there are 35 students and the identifiers are sequential numbers starting from 1.\n",
        "\n",
        "The final table (pandas.DataFrame) should look like this:\n",
        "\n",
        "| | lab_1 | lab_2 | lab_3 | ... | lab_8 |\n",
        "| --- | --- | --- | --- | --- | --- |\n",
        "| 1 | x | x | x | x | x |\n",
        "| 2 | x | x | x | x | x |\n",
        "| 3 | x | x | x | x | x |\n",
        "| ... | x | x | x | x | x |\n",
        "| 34 | x | x | x | x | x |\n",
        "| 35 | x | x | x | x | x |"
      ],
      "metadata": {
        "id": "qqSGVwwzS0vG"
      }
    },
    {
      "cell_type": "code",
      "source": [
        "def function3(data):\n",
        "  df = data.groupby(['student_id', 'kahoot_id'])['correct'].mean().unstack()\n",
        "  df.columns = [f'lab_{i}' for i in df.columns]\n",
        "  df = df.rename_axis(None, axis=0).fillna(0)\n",
        "  df = df.reindex(range(1, 36), fill_value=0)\n",
        "  return df"
      ],
      "metadata": {
        "id": "bSHT1PhSts-n"
      },
      "execution_count": null,
      "outputs": []
    },
    {
      "cell_type": "code",
      "source": [
        "absences_data = function3(students_data)\n",
        "print(absences_data)"
      ],
      "metadata": {
        "id": "OFnlaZhIpANg",
        "colab": {
          "base_uri": "https://localhost:8080/"
        },
        "outputId": "e76b2da6-c461-4b78-cd4e-5a8f54a922cb"
      },
      "execution_count": null,
      "outputs": [
        {
          "output_type": "stream",
          "name": "stdout",
          "text": [
            "    lab_1  lab_2  lab_3  lab_4  lab_5  lab_6  lab_7  lab_8\n",
            "1     1.0    0.8    0.5    0.8    0.5    0.6    0.7    0.3\n",
            "2     0.7    1.0    0.8    0.9    0.2    0.9    0.8    0.5\n",
            "3     0.0    0.0    0.6    0.6    0.0    0.8    0.9    0.6\n",
            "4     0.0    0.0    0.0    0.3    0.6    0.3    0.0    0.3\n",
            "5     0.9    0.8    0.4    0.7    0.9    0.7    0.7    0.3\n",
            "6     0.8    0.0    0.0    0.7    0.5    0.2    0.9    0.6\n",
            "7     0.9    0.8    0.8    0.7    0.6    0.8    0.0    0.5\n",
            "8     0.8    0.8    0.7    1.0    0.7    0.8    0.0    0.5\n",
            "9     0.0    1.0    0.8    0.8    0.3    0.9    0.0    0.0\n",
            "10    0.0    0.5    0.0    0.7    0.4    0.2    0.0    0.5\n",
            "11    0.8    0.0    0.0    0.3    0.5    0.5    0.4    0.4\n",
            "12    0.0    0.0    0.0    0.0    0.0    0.0    0.0    0.0\n",
            "13    0.0    0.0    0.0    0.0    0.7    0.9    0.0    0.0\n",
            "14    0.0    0.7    0.7    0.8    0.6    0.3    0.6    0.6\n",
            "15    0.0    0.0    0.0    0.0    0.0    0.0    0.0    0.0\n",
            "16    0.7    0.6    0.5    0.7    0.5    0.7    0.6    0.6\n",
            "17    0.7    0.0    0.6    0.8    0.0    0.6    0.9    0.8\n",
            "18    0.0    0.7    0.0    0.5    0.5    0.0    0.0    0.0\n",
            "19    0.6    0.8    0.5    1.0    0.7    0.7    0.5    0.6\n",
            "20    0.0    0.0    0.0    0.0    0.0    0.0    0.0    0.0\n",
            "21    0.0    0.7    0.0    0.4    0.9    0.0    0.0    0.2\n",
            "22    0.7    0.8    0.9    0.0    0.8    0.7    0.9    0.7\n",
            "23    0.8    0.9    0.4    0.7    0.9    0.8    0.7    0.8\n",
            "24    0.8    0.5    0.0    0.7    0.6    0.9    0.8    0.6\n",
            "25    0.9    0.7    0.6    0.5    0.0    0.0    0.0    0.0\n",
            "26    0.8    0.8    0.8    0.5    0.0    0.4    0.9    0.8\n",
            "27    0.9    0.7    0.6    1.0    0.9    1.0    0.9    0.8\n",
            "28    1.0    0.7    0.5    0.8    0.8    0.6    0.7    0.5\n",
            "29    0.0    0.0    0.6    0.7    0.7    0.8    0.8    0.8\n",
            "30    0.0    0.9    0.7    0.9    0.9    0.9    0.8    0.5\n",
            "31    0.7    0.9    0.9    0.8    1.0    0.7    0.8    0.8\n",
            "32    0.6    0.7    0.4    0.4    0.4    0.5    0.0    0.8\n",
            "33    0.4    0.6    0.5    0.6    0.4    0.7    0.5    0.7\n",
            "34    0.7    0.9    0.4    0.8    0.6    0.7    0.8    0.5\n",
            "35    0.5    0.8    0.8    0.5    0.4    0.6    0.8    0.7\n"
          ]
        }
      ]
    },
    {
      "cell_type": "markdown",
      "source": [
        "**Problem 4.⭐⭐** By adding the data in ``gender.csv`` to the data from the previous problem, find out who answers more questions on average: male or female? To find out the following, you need to fill in the function ``function4`` so that it takes the data obtained in Problem 3 and returns\n",
        "* ``pandas.Series``, whose indexes will be the gender, and the values will be the averaged proportions of correct answers by gender.\n",
        "\n",
        "|    |    |\n",
        "| --- | --- |\n",
        "| female | x |\n",
        "| male   | x |\n",
        "\n",
        "* the data related to the gender of the students, as ``pandas.Series``, where the indices will be the identifiers of the students.\n",
        "\n",
        "|    |    |\n",
        "| --- | --- |\n",
        "| 1 | male |\n",
        "| 2   | female |\n",
        "| ... | ... |\n",
        "| 34 | male |\n",
        "| 35   | female |\n"
      ],
      "metadata": {
        "id": "PlNaK1Wi24Hp"
      }
    },
    {
      "cell_type": "code",
      "source": [
        "def function4(data, gender_csv):\n",
        "  gender_df = pd.read_csv(gender_csv, header=None)\n",
        "  gender_df = gender_df.set_index(0).rename_axis(None, axis=0)\n",
        "  gender_df.columns = ['gender']\n",
        "  merged_df = pd.merge(data, gender_df, left_index=True, right_index=True)\n",
        "  avg_gender = pd.Series(merged_df.groupby('gender').mean().mean(axis=1).to_dict())\n",
        "  return avg_gender, gender_df"
      ],
      "metadata": {
        "id": "Fyqu8OIJrcv4"
      },
      "execution_count": null,
      "outputs": []
    },
    {
      "cell_type": "code",
      "source": [
        "result, gender_data = function4(absences_data, gender_csv='gender.csv')\n",
        "print(result)\n",
        "print(gender_data)"
      ],
      "metadata": {
        "id": "rCPbOpPi23A-",
        "colab": {
          "base_uri": "https://localhost:8080/"
        },
        "outputId": "62f5ea90-45f3-4dcc-fbc7-c4a2c0e6e82f"
      },
      "execution_count": null,
      "outputs": [
        {
          "output_type": "stream",
          "name": "stdout",
          "text": [
            "female    0.515909\n",
            "male      0.480769\n",
            "dtype: float64\n",
            "    gender\n",
            "1   female\n",
            "2     male\n",
            "3   female\n",
            "4     male\n",
            "5   female\n",
            "6   female\n",
            "7   female\n",
            "8   female\n",
            "9   female\n",
            "10    male\n",
            "11  female\n",
            "12  female\n",
            "13  female\n",
            "14  female\n",
            "15  female\n",
            "16  female\n",
            "17    male\n",
            "18    male\n",
            "19  female\n",
            "20    male\n",
            "21    male\n",
            "22  female\n",
            "23  female\n",
            "24    male\n",
            "25  female\n",
            "26  female\n",
            "27    male\n",
            "28    male\n",
            "29  female\n",
            "30  female\n",
            "31    male\n",
            "32    male\n",
            "33    male\n",
            "34  female\n",
            "35  female\n"
          ]
        }
      ]
    },
    {
      "cell_type": "markdown",
      "source": [
        "**Problem 5.⭐⭐⭐** Complete function5 so that it\n",
        "1. take all initial data (students_data, questions_data, gender_data),\n",
        "2. join them to students_data with the corresponding columns (student_id, question_id);\n",
        "3. create a new column named **avg_time**, which should contain the average \"thinking\" time of the given student based on the previous questions, setting the first value to 0; for example, if he spent 20 and 30 seconds on the first 2 questions, then the first 3 data in the **avg_time** column for the *given student* will be 0, 20, 25.\n",
        "4. create a new column named **avg_correct**, which should contain the average proportion of correct answers given by the given student based on the previous questions, setting the first value to 1.5. for example, if the values of the correct column of the first 3 questions were 1, 1, 0, then the first 4 data of the **avg_correct** column for the given student will be 1, 1, 1, 0.66.\n",
        "\n",
        "5. save the following columns in the specified order **gender, avg_time, avg_correct, total_time, question, answer1, answer2, answer3, answer4, correct**\n",
        "6. divide the data into 2 parts: in the first part 1-5 (train), in the second part 6-8 questions (test)\n",
        "7. return train, test tables as pandas.DataFrames in original row order"
      ],
      "metadata": {
        "id": "yJwo0Edht2aJ"
      }
    },
    {
      "cell_type": "code",
      "source": [
        "def function5(students_data, questions_data, gender_data):\n",
        "  merged_df = pd.merge(students_data, questions_data, on=['kahoot_id', 'question_id'])\n",
        "  merged_df = pd.merge(merged_df, gender_data, left_on='student_id', right_index=True)\n",
        "  grouped_merged_df = merged_df.groupby(['student_id', 'kahoot_id'])\n",
        "  merged_df['avg_time'] = grouped_merged_df['time'].expanding().mean().reset_index(drop=True)\n",
        "  merged_df['avg_time'] = merged_df['avg_time'].mask(grouped_merged_df['avg_time'].shift().isnull(), 0)\n",
        "  merged_df['avg_correct'] = grouped_merged_df['correct'].expanding().mean().reset_index(drop=True)\n",
        "  merged_df['avg_correct'] = merged_df['avg_correct'].mask(grouped_merged_df['avg_correct'].shift().isnull(), 1)\n",
        "  remaining_columns = ['gender', 'avg_time', 'avg_correct', 'total_time', 'question', 'answer1', 'answer2', 'answer3', 'answer4', 'correct']\n",
        "  train = merged_df[merged_df['kahoot_id'].between(1, 5)][remaining_columns]\n",
        "  test = merged_df[merged_df['kahoot_id'].between(6, 9)][remaining_columns]\n",
        "  return train, test"
      ],
      "metadata": {
        "id": "I89IOIvpt2Cr"
      },
      "execution_count": null,
      "outputs": []
    },
    {
      "cell_type": "code",
      "source": [
        "train, test = function5(students_data, questions_data, gender_data)\n",
        "print(train.shape, test.shape)"
      ],
      "metadata": {
        "id": "c3sFOUdL83mT",
        "colab": {
          "base_uri": "https://localhost:8080/"
        },
        "outputId": "68e07684-8e9d-43a2-e57f-624052120afe"
      },
      "execution_count": null,
      "outputs": [
        {
          "output_type": "stream",
          "name": "stdout",
          "text": [
            "(1290, 10) (790, 10)\n"
          ]
        }
      ]
    },
    {
      "cell_type": "markdown",
      "source": [
        "**Problem 6.⭐⭐⭐** In fact, we want to build such a classifier, which will give an opportunity for each student to estimate the probability of him answering a certain question correctly, taking into account the data of that student and the complexity of the question.\n",
        "\n",
        "Student data will be used by him\n",
        "* gender,\n",
        "* average time to answer previous questions (avg_time),\n",
        "* average proportion of correct answers to previous questions (avg_correct)\n",
        "\n",
        "As a description of the complexity of the question, we will use\n",
        "\n",
        "* time allocated to the question (total_time)\n",
        "* the number of words in the content of the question (question)\n",
        "* the sum of the number of words in the 4 options of the answer to the question (answer1,2,3,4)\n",
        "\n",
        "We will use the correct column data as a label.\n",
        "\n",
        "We need to complete function6 so that it constructs sklearn.pipeline.Pipeline in the following steps:\n",
        "* sklearn.preprocessing.OrdinalEncoder applied to the gender column\n",
        "* sklearn.preprocessing.FunctionTransformer applied to the question column with a function that will return the number of words ignoring characters other than letters [[hint]](https://scikit-learn.org/stable/modules/generated/sklearn.feature_extraction.text.CountVectorizer.html#sklearn.feature_extraction.text.CountVectorizer)\n",
        "* sklearn.preprocessing.FunctionTransformer applied to columns answer1,2,3,4 with a function that will return the sum of the number of words in the 4 options (count as in the previous point)\n",
        "* then apply sklearn.preprocessing.StandardScaler to all columns of the input data (X).\n",
        "* and use sklearn.neighbors:KNeighborsClassifier with k=7 as classifier\n",
        "\n",
        "You can use [this] (https://scikit-learn.org/stable/modules/generated/sklearn.compose.ColumnTransformer.html#sklearn-compose-columntransformer) to modify individual columns. It is required to return the trained pipeline object on the train set and the accuracy of the predictions on the test set (you can use the score method).\n",
        "\n"
      ],
      "metadata": {
        "id": "awSzPs85woW4"
      }
    },
    {
      "cell_type": "code",
      "source": [
        "from sklearn.pipeline import Pipeline\n",
        "from sklearn.preprocessing import OrdinalEncoder, FunctionTransformer, StandardScaler\n",
        "from sklearn.feature_extraction.text import CountVectorizer\n",
        "from sklearn.neighbors import KNeighborsClassifier\n",
        "from sklearn.compose import ColumnTransformer\n",
        "\n",
        "\n",
        "def function6(train, test):\n",
        "  y_train = train['correct']\n",
        "  X_train = train.drop(['correct'], axis=1)\n",
        "  y_test = test['correct']\n",
        "  X_test = test.drop(['correct'], axis=1)\n",
        "\n",
        "  col_1 = ColumnTransformer([('gender', OrdinalEncoder(categories=[['male', 'female']]), ['gender'])])\n",
        "  col_2 = ColumnTransformer([('question', CountVectorizer(token_pattern=r'\\b\\w+\\b', lowercase=True), ['question'])])\n",
        "  col_3 = ColumnTransformer([('anserws', CountVectorizer(token_pattern=r'\\b\\w+\\b', lowercase=True), ['answer1', 'answer2', 'answer3', 'answer4'])])\n",
        "  pipeline = Pipeline([\n",
        "        ('encode_gender', col_1),\n",
        "        ('countvec_question', col_2),\n",
        "        ('countvec_answers', col_3),\n",
        "        ('scale', StandardScaler()),\n",
        "        ('knn', KNeighborsClassifier(n_neighbors=7))\n",
        "    ])\n",
        "  pipeline.fit(X_train, y_train)\n",
        "\n",
        "    # Evaluate the pipeline on the test data\n",
        "  score = pipeline.score(X_test, y_test)\n",
        "  return score"
      ],
      "metadata": {
        "id": "_5ssYIRMgwcu"
      },
      "execution_count": null,
      "outputs": []
    },
    {
      "cell_type": "code",
      "source": [
        "print(function6(train, test))"
      ],
      "metadata": {
        "id": "jAOvALhDg3fp"
      },
      "execution_count": null,
      "outputs": []
    },
    {
      "cell_type": "code",
      "source": [],
      "metadata": {
        "id": "0dh0awMHBZXx"
      },
      "execution_count": null,
      "outputs": []
    }
  ]
}