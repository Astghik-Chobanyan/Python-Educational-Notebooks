{
  "nbformat": 4,
  "nbformat_minor": 0,
  "metadata": {
    "colab": {
      "provenance": []
    },
    "kernelspec": {
      "display_name": "Python 3",
      "language": "python",
      "name": "python3"
    },
    "language_info": {
      "codemirror_mode": {
        "name": "ipython",
        "version": 3
      },
      "file_extension": ".py",
      "mimetype": "text/x-python",
      "name": "python",
      "nbconvert_exporter": "python",
      "pygments_lexer": "ipython3",
      "version": "3.7.6"
    }
  },
  "cells": [
    {
      "cell_type": "code",
      "metadata": {
        "id": "3Vn0GtnroyLK"
      },
      "source": [
        "import numpy as np"
      ],
      "execution_count": null,
      "outputs": []
    },
    {
      "cell_type": "markdown",
      "metadata": {
        "id": "fIp8Aopeo2Li"
      },
      "source": [
        "**Problem 1.⭐** Create a function named ``dist'' that calculates the Euclidean distance of 2 arrays.\n",
        "\n",
        "\n",
        "```\n",
        "a, b = np.array([1, 2]), np.array([1, 3])\n",
        "print(dist(a, b))\n",
        ">>1\n",
        "```\n"
      ]
    },
    {
      "cell_type": "code",
      "metadata": {
        "id": "sjKBosqwpDCA"
      },
      "source": [
        "def dist(a, b):\n",
        "  if a.shape != b.shape:\n",
        "    return 'DimensionError'\n",
        "  return np.sqrt(np.sum((a - b)**2))"
      ],
      "execution_count": null,
      "outputs": []
    },
    {
      "cell_type": "code",
      "metadata": {
        "id": "0y9bn1qa75-i"
      },
      "source": [
        "a, b = np.array([1, 1]), np.array([1, 3])\n",
        "assert dist(a, b) == 2\n",
        "\n",
        "a, b = np.array([-10, 1.5]), np.array([0.9, 3.6])\n",
        "assert round(dist(a, b), 2) == 11.1\n",
        "\n",
        "a, b = np.array([1, 1, 1]), np.array([0, -1, 3])\n",
        "assert dist(a, b) == 3\n",
        "\n",
        "a, b = np.array([1, 0, -999]), np.array([1, 3])\n",
        "assert dist(a, b) == \"DimensionError\"\n",
        "\n",
        "a, b = np.array([10, -1, 9, 1, 2.98, -0.14]), np.array([0, -1, 3.14, np.pi, 99, np.e])\n",
        "assert round(dist(a, b), 2) == 96.78"
      ],
      "execution_count": null,
      "outputs": []
    },
    {
      "cell_type": "markdown",
      "metadata": {
        "id": "HLs6-36QrdHR"
      },
      "source": [
        "**Problem 2.⭐** Create a function named ``rescale'' that will rescale the given array so that the values ​​are between 0 and 1.\n",
        "\n",
        "[Hint](https://en.wikipedia.org/wiki/Feature_scaling#Rescaling_(min-max_normalization))\n",
        "\n",
        "```*italicized text*\n",
        "a = np.array([1,2,3,4])\n",
        "print(rescale(a))\n",
        ">>[0, 0.3333333, 0.66666667, 1]\n",
        "```\n",
        "\n"
      ]
    },
    {
      "cell_type": "code",
      "metadata": {
        "id": "K0r9MmixsJNt"
      },
      "source": [
        "def rescale(a):\n",
        "  return (a - a.min()) / (a.max() - a.min())\n"
      ],
      "execution_count": null,
      "outputs": []
    },
    {
      "cell_type": "code",
      "metadata": {
        "id": "wWqXPufKP6Y4"
      },
      "source": [
        "assert np.all(rescale(np.array([1, 2, 3, 4])) == [0, 1/3, 2/3, 1])\n",
        "assert np.all(rescale(np.array([0, 1])) == [0, 1])\n",
        "assert np.all(rescale(np.array([0, 10])) == [0, 1])\n",
        "assert np.all(rescale(np.array([1, 2, 4])) == [0, 1/3, 1])"
      ],
      "execution_count": null,
      "outputs": []
    },
    {
      "cell_type": "markdown",
      "metadata": {
        "id": "Kgu2Tjnasoir"
      },
      "source": [
        "**Problem 3.⭐** Create a function named ``find'' that will return the positions of the missing values ​​of a one-dimensional numpy array as a list\n",
        "\n",
        "\n",
        "```\n",
        "a = np.array([np.nan, 1, 2])\n",
        "print(find(a))\n",
        ">>[0]\n",
        "```\n",
        "\n"
      ]
    },
    {
      "cell_type": "code",
      "metadata": {
        "id": "-l_-9LqpwC0I"
      },
      "source": [
        "def find(a):\n",
        "  return np.argwhere(np.isnan(a)).reshape(-1)"
      ],
      "execution_count": null,
      "outputs": []
    },
    {
      "cell_type": "code",
      "metadata": {
        "id": "Jesp9pcDP-a-"
      },
      "source": [
        "assert np.all(find(np.array([np.nan, 1, 2, np.nan])) == [0, 3])\n",
        "assert np.all(find(np.array([np.nan, np.nan])) == [0, 1])\n",
        "assert np.all(find(np.array([np.e, 1, 2, 99])) == [])\n",
        "assert np.all(find(np.array([np.e])) == [])\n",
        "assert np.all(find(np.array([])) == [])"
      ],
      "execution_count": null,
      "outputs": []
    },
    {
      "cell_type": "markdown",
      "metadata": {
        "id": "Sun6i3oM81VS"
      },
      "source": [
        "**Problem 4.⭐⭐**\n",
        "\n",
        "Define a function named ``fill'' that will take as input variables\n",
        "* 2D numpy array ``a'' of size $m \\times n$ with missing elements and\n",
        "* text variable ``mode'' $\\in$ {\"mean\",\"min\",\"max\"}\n",
        "\n",
        "and will return the array ``a'' so that the missing elements are replaced by the corresponding column {mean, minimum, maximum} according to the given 'mode' variable.\n",
        "\n",
        "```\n",
        "a = np.array([[np.nan, 200, 10],\n",
        "              [2, 110, np.nan],\n",
        "              [0, 120, 11],\n",
        "              [0, 400, np.nan],\n",
        "              [1, np.nan, 9]])\n",
        "mode = \"mean\"\n",
        "print(fill(a, mode))\n",
        ">>[[  0.75 200.    10.  ]\n",
        " [  2.   110.    10.  ]\n",
        " [  0.   120.    11.  ]\n",
        " [  0.   400.    10.  ]\n",
        " [  1.   207.5    9.  ]]\n",
        "```\n",
        "\n"
      ]
    },
    {
      "cell_type": "code",
      "metadata": {
        "id": "tN_T-Agz-AiC"
      },
      "source": [
        "def fill(a, mode):\n",
        "  copy_arr = a.copy()\n",
        "  if mode == 'mean':\n",
        "    fill_value = np.nanmean(a, axis=0)\n",
        "  elif mode == 'min':\n",
        "    fill_value = np.nanmin(a, axis=0)\n",
        "  elif mode == 'max':\n",
        "    fill_value = np.nanmax(a, axis=0)\n",
        "  copy_arr[np.isnan(a)] = np.take(fill_value, np.isnan(a).nonzero()[1])\n",
        "  return copy_arr"
      ],
      "execution_count": null,
      "outputs": []
    },
    {
      "cell_type": "code",
      "metadata": {
        "id": "YtIl7k8ZRNMV"
      },
      "source": [
        "a = np.array([[np.nan, 200, 10],\n",
        "              [2, 110, np.nan],\n",
        "              [0, 120, 11],\n",
        "              [0, 400, np.nan],\n",
        "              [1, np.nan, 9]])\n",
        "\n",
        "assert np.all(fill(a, \"mean\") ==\n",
        "              [[0.75, 200.,  10.],\n",
        "               [2., 110.,  10.],\n",
        "               [0., 120.,  11.],\n",
        "               [0., 400.,  10.],\n",
        "               [1., 207.5,   9.]])\n",
        "\n",
        "assert np.all(fill(a, \"min\") ==\n",
        "              [[0., 200.,  10.],\n",
        "               [2., 110.,   9.],\n",
        "               [0., 120.,  11.],\n",
        "               [0., 400.,   9.],\n",
        "               [1., 110.,   9.]])\n",
        "\n",
        "assert np.all(fill(a, \"max\") ==\n",
        "              [[2., 200.,  10.],\n",
        "               [2., 110.,  11.],\n",
        "               [0., 120.,  11.],\n",
        "               [0., 400.,  11.],\n",
        "               [1., 400.,   9.]])"
      ],
      "execution_count": null,
      "outputs": []
    },
    {
      "cell_type": "markdown",
      "source": [
        "**Problem 5.⭐⭐**\n",
        "Define a function named ``encode'' that will take a one-dimensional array ``a'' as an input variable\n",
        "and will return a two-dimensional array where the columns correspond to the unique elements of ``a'' and the number of rows correspond to all elements of ``a''. The array to be returned must contain 1s in all $ij$ places where $a[i] = unique(a)[j]$ and 0s in all other places. For example:\n",
        "\n",
        "```\n",
        "a = np.array([1, 1, 2, 3, 2, 4])\n",
        "# unique(a) -> np.array([1, 2, 3, 4])\n",
        "print(encode(a))\n",
        ">>[[1, 0, 0, 0],\n",
        "  [1, 0, 0, 0],\n",
        "  [0, 1, 0, 0],\n",
        "  [0, 0, 1, 0],\n",
        "  [0, 1, 0, 0],\n",
        "  [0, 0, 0, 1]]\n",
        "```\n",
        "\n",
        "\n"
      ],
      "metadata": {
        "id": "LBQYA4Old3Q3"
      }
    },
    {
      "cell_type": "code",
      "source": [
        "def encode(a):\n",
        "  unique_a = np.unique(a)\n",
        "  mask = (a[:, np.newaxis] == unique_a)\n",
        "  encoded_array = mask.astype(int)\n",
        "\n",
        "  return encoded_array"
      ],
      "metadata": {
        "id": "vY7skpxDd3VM"
      },
      "execution_count": null,
      "outputs": []
    },
    {
      "cell_type": "code",
      "source": [
        "assert np.all(encode(np.array([0, 0, 2, 3, 2, 4])) ==\n",
        "              [[1, 0, 0, 0],\n",
        "               [1, 0, 0, 0],\n",
        "               [0, 1, 0, 0],\n",
        "               [0, 0, 1, 0],\n",
        "               [0, 1, 0, 0],\n",
        "               [0, 0, 0, 1]])\n",
        "\n",
        "assert np.all(encode(np.array([-np.pi, 9])) ==\n",
        "              [[1, 0],\n",
        "               [0, 1]])\n",
        "\n",
        "assert np.all(encode(np.array([-1, 1, 9, 10])) ==\n",
        "              [[1, 0, 0, 0],\n",
        "               [0, 1, 0, 0],\n",
        "               [0, 0, 1, 0],\n",
        "               [0, 0, 0, 1]])\n",
        "\n",
        "assert np.all(encode(np.array([np.sqrt(2), np.sqrt(2), np.sqrt(2)])) ==\n",
        "              [[1],\n",
        "               [1],\n",
        "               [1]])"
      ],
      "metadata": {
        "id": "oLMq7mQLd3Zt"
      },
      "execution_count": null,
      "outputs": []
    },
    {
      "cell_type": "markdown",
      "source": [
        "**Problem 6.⭐⭐**\n",
        "Define a function named ``pad'' that will take as an input variable\n",
        "\n",
        "* a two-dimensional array ``a''\n",
        "* n and m are natural numbers\n",
        "\n",
        "and will return a two-dimensional array where ``a`` is taken in a frame full of 0s; $n$ additional rows from the top and bottom, and $m$ additional columns from the right and left.\n",
        "```\n",
        "a = np.array([[1, 1], [1, 1]])\n",
        "n = 1\n",
        "m = 2\n",
        "print(pad(a, n, m))\n",
        ">>[[0, 0, 0, 0, 0, 0],\n",
        "  [0, 0, 1, 1, 0, 0],\n",
        "  [0, 0, 1, 1, 0, 0],\n",
        "  [0, 0, 0, 0, 0, 0]]\n",
        "```\n",
        "\n",
        "\n",
        "\n"
      ],
      "metadata": {
        "id": "jtF2WLJid3dt"
      }
    },
    {
      "cell_type": "code",
      "source": [
        "def pad(a, n, m):\n",
        "  row_size, col_size = a.shape\n",
        "  padded_array = np.zeros((row_size + 2*n, col_size + 2*m))\n",
        "  padded_array[n:row_size+n, m:col_size+m] = a\n",
        "  return padded_array"
      ],
      "metadata": {
        "id": "Y3IlC8wijbrw"
      },
      "execution_count": null,
      "outputs": []
    },
    {
      "cell_type": "code",
      "source": [
        "assert np.all(pad(np.array([[1, 1], [1, 1]]), 1, 2) ==\n",
        "              [[0, 0, 0, 0, 0, 0],\n",
        "               [0, 0, 1, 1, 0, 0],\n",
        "               [0, 0, 1, 1, 0, 0],\n",
        "               [0, 0, 0, 0, 0, 0]])\n",
        "\n",
        "assert np.all(pad(np.array([[1, 2], [1, 1]]), 0, 2) ==\n",
        "              [[0, 0, 1, 2, 0, 0],\n",
        "               [0, 0, 1, 1, 0, 0]])\n",
        "\n",
        "assert np.all(pad(np.array([[9]]), 2, 2) ==\n",
        "              [[0, 0, 0, 0, 0],\n",
        "               [0, 0, 0, 0, 0],\n",
        "               [0, 0, 9, 0, 0],\n",
        "               [0, 0, 0, 0, 0],\n",
        "               [0, 0, 0, 0, 0]])"
      ],
      "metadata": {
        "id": "b_56mu9ajbwH"
      },
      "execution_count": null,
      "outputs": []
    },
    {
      "cell_type": "markdown",
      "source": [
        "**Problem 7.⭐⭐**\n",
        "Define a function named ``calculate'' that will take as an input variable\n",
        "two-dimensional ``A'' ( $n \\times n$ ) and one-dimensional ``b'' arrays\n",
        "and will return the value of the following expression\n",
        "$${1\\over2}\\mathbf{b}^TA^{-1}\\mathbf{b}\\cdot\\prod_{i}\\lambda_i,$$\n",
        "where $\\lambda_i$ are the eigenvalues ​​of A. If the inverse of the matrix A does not exist, use the [pseudo inverse](https://inst.eecs.berkeley.edu/~ee127/sp21/livebook/def_pseudo_inv.html) of A in the calculation.\n",
        "\n",
        "```\n",
        "a = np.array([[1, 1, 2],\n",
        "              [0, 1, 3],\n",
        "              [1, 3, 0]])\n",
        "b = np.array([1, 0, 1])\n",
        "print(calculate(a, b))\n",
        ">>-4.000000000000002\n",
        "```\n",
        "\n",
        "\n",
        "\n"
      ],
      "metadata": {
        "id": "2iS_tpzdtHM_"
      }
    },
    {
      "cell_type": "code",
      "source": [
        "def calculate(A, b):\n",
        "  if A.shape[0] != b.shape[0]:\n",
        "    return 'DimensionError'\n",
        "  inverse_a = np.linalg.inv(A) if np.linalg.det(A) !=0 else np.linalg.pinv(A)\n",
        "  result = 0.5*b.T@inverse_a@b*np.prod(np.linalg.eigvals(a))\n",
        "  return result"
      ],
      "metadata": {
        "id": "QeUfVJg4tG-v"
      },
      "execution_count": null,
      "outputs": []
    },
    {
      "cell_type": "code",
      "source": [
        "a = np.array([[1, 1, 2],\n",
        "              [0, 1, 3],\n",
        "              [1, 3, 0]])\n",
        "b = np.array([1, 0, 1])\n",
        "assert round(calculate(a, b)) == -4\n",
        "\n",
        "a = np.array([[1, 1, 2],\n",
        "              [0, 1, 3],\n",
        "              [1, 3, 0]])\n",
        "b = np.array([1, 0, 1, 1])\n",
        "assert calculate(a, b) == \"DimensionError\"\n",
        "\n",
        "a = np.array([[1, 1, 2],\n",
        "              [1, 1, 3],\n",
        "              [3, 3, 0]])\n",
        "b = np.array([1, 0, 1])\n",
        "assert round(calculate(a, b)) == 0\n",
        "\n",
        "a = np.array([[10, 1],\n",
        "              [-1, 1]])\n",
        "b = np.array([1, 1])\n",
        "assert round(calculate(a, b), 2) == 5.5"
      ],
      "metadata": {
        "id": "XEq5jdgCtGzl"
      },
      "execution_count": null,
      "outputs": []
    },
    {
      "cell_type": "markdown",
      "source": [
        "**Problem 8.⭐⭐**\n",
        "Define a function named ``is_in_range'' that will take as an input variable\n",
        "\n",
        "* two-dimensional ``a'' array and\n",
        "* A tuple named ``interval'' representing an interval of the form [start, end).\n",
        "\n",
        "and will return the rows whose sum of elements is in the interval [start, end).\n",
        "```\n",
        "a = np.array([[1, 1, 2],\n",
        "              [0, 108, 3],\n",
        "              [1, 3, 65],\n",
        "              [50, 35, 5],\n",
        "              [5, 83, 110],\n",
        "              [98, 99, 10],\n",
        "              [8, 9, 103],\n",
        "              [9, 23, 15]])\n",
        "print(is_in_range(a, (100, 200)))\n",
        ">[[0, 108, 3],\n",
        "  [5, 83, 110],\n",
        "  [8, 9, 103]]\n",
        "```\n",
        "\n",
        "\n"
      ],
      "metadata": {
        "id": "ERFO68amADLZ"
      }
    },
    {
      "cell_type": "code",
      "source": [
        "def is_in_range(a, interval):\n",
        "  result = a[(a.sum(axis=1) >= interval[0]) & (a.sum(axis=1) < interval[1])]\n",
        "  return result"
      ],
      "metadata": {
        "id": "inORuZkgAC9p"
      },
      "execution_count": null,
      "outputs": []
    },
    {
      "cell_type": "code",
      "source": [
        "a = np.array([[1, 1, 2],\n",
        "              [0, 108, 3],\n",
        "              [1, 3, 65],\n",
        "              [50, 35, 5],\n",
        "              [5, 83, 110],\n",
        "              [98, 99, 10],\n",
        "              [8, 9, 103],\n",
        "              [9, 23, 15]])\n",
        "assert np.all(is_in_range(a, (100, 200)) ==\n",
        "              [[0, 108,   3],\n",
        "               [5,  83, 110],\n",
        "               [8,   9, 103]])\n",
        "\n",
        "a = np.array([[1, 1, 2],\n",
        "              [0, -108, 3],\n",
        "              [1, 3, 65],\n",
        "              [50, 35, 5]])\n",
        "assert len(is_in_range(a, (100, 200))) == 0"
      ],
      "metadata": {
        "id": "RsgxG5YvACkR"
      },
      "execution_count": null,
      "outputs": []
    },
    {
      "cell_type": "markdown",
      "source": [
        "**Problem 9.⭐⭐⭐** Define a function named ``euclidean_distance'' that will take as an input variable\n",
        "two-dimensional ``a'' and one-dimensional ``b'' arrays\n",
        "and will return a one-dimensional array containing the Euclidean distances between the row vectors of a and b. Solve the problem without open cycles (through broadcasting).\n",
        "\n",
        "```\n",
        "a = np.array([[1, 1],\n",
        "              [0, 1],\n",
        "              [1, 3],\n",
        "              [4, 5]])\n",
        "b = np.array([1, 1])\n",
        "print(euclidean_distance(a, b))\n",
        ">>[0,1,2,5]\n",
        "```\n",
        "\n",
        "\n",
        "\n"
      ],
      "metadata": {
        "id": "QuooEe4sjb0n"
      }
    },
    {
      "cell_type": "code",
      "source": [
        "def euclidean_distance(a, b):\n",
        "  if a.shape[1] != b.shape[0]:\n",
        "    return 'DimensionError'\n",
        "  return np.sqrt(((a - b)**2).sum(axis=1))"
      ],
      "metadata": {
        "id": "uM-y6rUwjb5W"
      },
      "execution_count": null,
      "outputs": []
    },
    {
      "cell_type": "code",
      "source": [
        "a, b = np.array([[1, 1],\n",
        "                 [0, 1],\n",
        "                 [1, 3],\n",
        "                 [4, 5]]), np.array([1, 1])\n",
        "assert np.all(euclidean_distance(a, b) == [0., 1., 2., 5.])\n",
        "\n",
        "a, b = np.array([[np.e, 0, 1.5],\n",
        "                 [0, 1, -10]]), np.array([1, 3.14, 0])\n",
        "assert np.all(np.round(euclidean_distance(a, b)) == [4, 10])\n",
        "\n",
        "a, b = np.array([[1, 1],\n",
        "                 [0, 1]]), np.array([1, 1, 1])\n",
        "assert euclidean_distance(a, b) == \"DimensionError\""
      ],
      "metadata": {
        "id": "l4nMdI1djb_C"
      },
      "execution_count": null,
      "outputs": []
    },
    {
      "cell_type": "markdown",
      "source": [
        "**Problem 10.⭐⭐⭐** Ս\n",
        "Define a function named ``convolution'' that will take as an input variable\n",
        "\n",
        "* two-dimensional ``a'' and ``b'' arrays of $m \\times n$ and $k \\times k$ sizes ($k \\leq n$, $k \\leq m$)\n",
        "* ``f'' function\n",
        "\n",
        "and will return a two-dimensional array that looks like this (see animation):\n",
        "\n",
        "1. Apply array b (dark blue) (multiplication and addition by elements) to a (light blue) by columns and rows\n",
        "2. create a two-dimensional array (white) with the obtained values\n",
        "3. Apply the ``f'' function to the two-dimensional array values ​​obtained in step 2\n",
        "\n",
        "![ConvUrl](https://miro.medium.com/max/2340/1*Fw-ehcNBR9byHtho-Rxbtw.gif \"convolution\")\n",
        "\n",
        "```\n",
        "a = np.array([[1, 1, 2],\n",
        "              [0, 1, 3],\n",
        "              [1, 3, 0],\n",
        "              [4, 5, 2]])\n",
        "b = np.array([[1, 0],\n",
        "              [0, 1]])\n",
        "\n",
        "f = lambda x: x**2\n",
        "print(convolution(a, b, f))\n",
        ">>[[4, 16],\n",
        "  [9, 1],\n",
        "  [36, 25]]\n",
        "```\n",
        "\n",
        "\n",
        "\n"
      ],
      "metadata": {
        "id": "z-d-LVfQooN7"
      }
    },
    {
      "cell_type": "code",
      "source": [
        "def convolution(a, b, f):\n",
        "  a_row, a_col = a.shape\n",
        "  b_row, b_col = b.shape\n",
        "  if (a_row < b_col and a_col < b_col) or b_row != b_col:\n",
        "    return 'DimensionError'\n",
        "  result = np.zeros((a_row - b_row + 1, a_col - b_col + 1))\n",
        "  for i in range(result.shape[0]):\n",
        "    for j in range(result.shape[1]):\n",
        "      result[i, j] = f((a[i:i+b_row, j:j+b_col]*b).sum())\n",
        "  return result"
      ],
      "metadata": {
        "id": "3ifarKhdooSY"
      },
      "execution_count": null,
      "outputs": []
    },
    {
      "cell_type": "code",
      "source": [
        "a = np.array([[1, 1, 2],\n",
        "              [0, 1, 3],\n",
        "              [1, 3, 0]])\n",
        "b = np.array([[1, 0],\n",
        "              [0, 1]])\n",
        "f = lambda x: x**2\n",
        "assert np.all(convolution(a, b, f) ==\n",
        "              [[4., 16.],\n",
        "               [9.,  1.]])\n",
        "\n",
        "a = np.array([[1, 1, 2],\n",
        "              [0, 1, 3],\n",
        "              [1, 3, 0],\n",
        "              [-10, -3, 0]])\n",
        "b = np.arange(9).reshape(3, 3)\n",
        "f = lambda x:0 if x<0 else x\n",
        "assert np.all(convolution(a, b, f) ==\n",
        "              [[51.],\n",
        "               [0.]])\n",
        "\n",
        "b = np.arange(6).reshape(2, 3)\n",
        "assert convolution(a, b, f) == \"DimensionError\""
      ],
      "metadata": {
        "id": "5Q6P8IeSooWQ"
      },
      "execution_count": null,
      "outputs": []
    },
    {
      "cell_type": "code",
      "source": [],
      "metadata": {
        "id": "WdTNtOxtkXrA"
      },
      "execution_count": null,
      "outputs": []
    }
  ]
}