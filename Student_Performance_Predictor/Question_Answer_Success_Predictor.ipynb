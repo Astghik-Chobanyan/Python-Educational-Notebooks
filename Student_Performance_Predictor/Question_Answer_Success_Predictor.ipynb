{
  "nbformat": 4,
  "nbformat_minor": 0,
  "metadata": {
    "colab": {
      "provenance": []
    },
    "kernelspec": {
      "name": "python3",
      "display_name": "Python 3"
    },
    "language_info": {
      "name": "python"
    }
  },
  "cells": [
    {
      "cell_type": "markdown",
      "source": [
        "**\n",
        "We want to build such a classifier, which will give an opportunity for each student to estimate the probability of him answering a certain question correctly, taking into account the data of that student and the complexity of the question.\n",
        "\n",
        "Student data will be used by him\n",
        "* gender,\n",
        "* average time to answer previous questions (avg_time),\n",
        "* average proportion of correct answers to previous questions (avg_correct)\n",
        "\n",
        "As a description of the complexity of the question, we will use\n",
        "\n",
        "* time allocated to the question (total_time)\n",
        "* the number of words in the content of the question (question)\n",
        "* the sum of the number of words in the 4 options of the answer to the question (answer1,2,3,4)\n",
        "\n",
        "We will use the correct column data as a label.\n",
        "\n",
        "We need to complete function6 so that it constructs sklearn.pipeline.Pipeline in the following steps:\n",
        "* sklearn.preprocessing.OrdinalEncoder applied to the gender column\n",
        "* sklearn.preprocessing.FunctionTransformer applied to the question column with a function that will return the number of words ignoring characters other than letters [[hint]](https://scikit-learn.org/stable/modules/generated/sklearn.feature_extraction.text .CountVectorizer.html#sklearn.feature_extraction.text.CountVectorizer)\n",
        "* sklearn.preprocessing.FunctionTransformer applied to columns answer1,2,3,4 with a function that will return the sum of the number of words in the 4 options (count as in the previous point)\n",
        "* then apply sklearn.preprocessing.StandardScaler to all columns of the input data (X).\n",
        "* and use sklearn.neighbors:KNeighborsClassifier with k=7 as classifier\n",
        "\n"
      ],
      "metadata": {
        "id": "awSzPs85woW4"
      }
    },
    {
      "cell_type": "markdown",
      "source": [
        "**Download data** 🔽"
      ],
      "metadata": {
        "id": "IflWymnwzpeb"
      }
    },
    {
      "cell_type": "code",
      "source": [
        "!wget https://raw.githubusercontent.com/NshanPotikyan/Dasa1Doom/master/files/hw4_bonus.zip\n",
        "!unzip hw4_bonus.zip"
      ],
      "metadata": {
        "colab": {
          "base_uri": "https://localhost:8080/"
        },
        "id": "MFr62Agfx83f",
        "outputId": "a12c207b-421f-4abb-adc4-294ca79ddb8d"
      },
      "execution_count": null,
      "outputs": [
        {
          "output_type": "stream",
          "name": "stdout",
          "text": [
            "--2023-05-11 20:35:07--  https://raw.githubusercontent.com/NshanPotikyan/Dasa1Doom/master/files/hw4_bonus.zip\n",
            "Resolving raw.githubusercontent.com (raw.githubusercontent.com)... 185.199.108.133, 185.199.109.133, 185.199.110.133, ...\n",
            "Connecting to raw.githubusercontent.com (raw.githubusercontent.com)|185.199.108.133|:443... connected.\n",
            "HTTP request sent, awaiting response... 200 OK\n",
            "Length: 34872 (34K) [application/zip]\n",
            "Saving to: ‘hw4_bonus.zip’\n",
            "\n",
            "\rhw4_bonus.zip         0%[                    ]       0  --.-KB/s               \rhw4_bonus.zip       100%[===================>]  34.05K  --.-KB/s    in 0.001s  \n",
            "\n",
            "2023-05-11 20:35:07 (57.9 MB/s) - ‘hw4_bonus.zip’ saved [34872/34872]\n",
            "\n",
            "Archive:  hw4_bonus.zip\n",
            "  inflating: hw4_bonus_train.csv     \n",
            "  inflating: hw4_bonus_test.csv      \n"
          ]
        }
      ]
    },
    {
      "cell_type": "code",
      "source": [
        "def function(train, test):\n",
        "  X_train = train.drop(['correct'], axis=1)\n",
        "  y_train = train['correct']\n",
        "\n",
        "  X_test = test.drop(['correct'], axis=1)\n",
        "  y_test = test['correct']\n",
        "\n",
        "  class CountVectorizerSumTransformer(BaseEstimator, TransformerMixin):\n",
        "    def __init__(self):\n",
        "      self.cv = CountVectorizer()\n",
        "\n",
        "    def fit(self, X, y=None):\n",
        "      self.cv.fit(X)\n",
        "      return self\n",
        "\n",
        "    def transform(self, X, y=None):\n",
        "      v = self.cv.transform(X)\n",
        "      return np.sum(v.toarray(), axis=1).reshape(-1, 1)\n",
        "\n",
        "    def fit_transform(self, X, y=None):\n",
        "      self.fit(X, y)\n",
        "      return self.transform(X, y)\n",
        "\n",
        "  class WordsCountTransformer(BaseEstimator, TransformerMixin):\n",
        "    def __init__(self):\n",
        "      self.cv = CountVectorizer()\n",
        "\n",
        "    def fit(self, X, y=None):\n",
        "      X_concat = X.apply(lambda row: ' '.join(row), axis=1)\n",
        "      self.cv.fit(X_concat)\n",
        "      return self\n",
        "\n",
        "    def transform(self, X, y=None):\n",
        "      X_concat = X.apply(lambda row: ' '.join(row), axis=1)\n",
        "      X_count = self.cv.transform(X_concat)\n",
        "      return np.asarray(np.sum(X_count, axis=1)).reshape(-1,1)\n",
        "\n",
        "    def fit_transform(self, X, y=None):\n",
        "      self.fit(X, y)\n",
        "      return self.transform(X, y)\n",
        "\n",
        "\n",
        "  col_trans = ColumnTransformer(\n",
        "      transformers=[\n",
        "          ('gender_ordinal_encoder',OrdinalEncoder(), ['gender']),\n",
        "          ('questions_word_count',CountVectorizerSumTransformer(), 'question'),\n",
        "          ('answers_word_count', WordsCountTransformer(), ['answer1', 'answer2',\n",
        "                                                         'answer3', 'answer4'])],\n",
        "          remainder='passthrough')\n",
        "\n",
        "\n",
        "  pipeline = Pipeline(\n",
        "      steps=[\n",
        "          ('col_trans', col_trans),\n",
        "          ('scaler', StandardScaler()),\n",
        "          ('classifier', KNeighborsClassifier(n_neighbors=7))\n",
        "          ])\n",
        "  pipeline.fit(X_train, y_train)\n",
        "  accuracy_score = pipeline.score(X_test, y_test)\n",
        "  return pipeline, accuracy_score\n",
        ""
      ],
      "metadata": {
        "id": "_5ssYIRMgwcu"
      },
      "execution_count": null,
      "outputs": []
    },
    {
      "cell_type": "code",
      "source": [
        "import pandas as pd\n",
        "import numpy as np\n",
        "from sklearn.compose import ColumnTransformer\n",
        "from sklearn.pipeline import Pipeline\n",
        "from sklearn.preprocessing import OrdinalEncoder, FunctionTransformer, StandardScaler\n",
        "from sklearn.feature_extraction.text import CountVectorizer\n",
        "from sklearn.neighbors import KNeighborsClassifier\n",
        "from sklearn.base import BaseEstimator, TransformerMixin\n",
        "\n",
        "train = pd.read_csv('/content/hw4_bonus_train.csv')\n",
        "test = pd.read_csv('/content/hw4_bonus_test.csv')\n",
        "\n",
        "pipeline, score = function(train, test)\n",
        "print(score)\n",
        "pipeline"
      ],
      "metadata": {
        "id": "w3trqv6njTpD",
        "colab": {
          "base_uri": "https://localhost:8080/",
          "height": 226
        },
        "outputId": "9d5b59c7-fb1b-483d-8ee9-2bcdfc90620b"
      },
      "execution_count": null,
      "outputs": [
        {
          "output_type": "execute_result",
          "data": {
            "text/plain": [
              "Pipeline(steps=[('col_trans',\n",
              "                 ColumnTransformer(remainder='passthrough',\n",
              "                                   transformers=[('gender_ordinal_encoder',\n",
              "                                                  OrdinalEncoder(),\n",
              "                                                  ['gender']),\n",
              "                                                 ('questions_word_count',\n",
              "                                                  CountVectorizerSumTransformer(),\n",
              "                                                  'question'),\n",
              "                                                 ('answers_word_count',\n",
              "                                                  WordsCountTransformer(),\n",
              "                                                  ['answer1', 'answer2',\n",
              "                                                   'answer3', 'answer4'])])),\n",
              "                ('scaler', StandardScaler()),\n",
              "                ('classifier', KNeighborsClassifier(n_neighbors=7))])"
            ],
            "text/html": [
              "<style>#sk-container-id-1 {color: black;background-color: white;}#sk-container-id-1 pre{padding: 0;}#sk-container-id-1 div.sk-toggleable {background-color: white;}#sk-container-id-1 label.sk-toggleable__label {cursor: pointer;display: block;width: 100%;margin-bottom: 0;padding: 0.3em;box-sizing: border-box;text-align: center;}#sk-container-id-1 label.sk-toggleable__label-arrow:before {content: \"▸\";float: left;margin-right: 0.25em;color: #696969;}#sk-container-id-1 label.sk-toggleable__label-arrow:hover:before {color: black;}#sk-container-id-1 div.sk-estimator:hover label.sk-toggleable__label-arrow:before {color: black;}#sk-container-id-1 div.sk-toggleable__content {max-height: 0;max-width: 0;overflow: hidden;text-align: left;background-color: #f0f8ff;}#sk-container-id-1 div.sk-toggleable__content pre {margin: 0.2em;color: black;border-radius: 0.25em;background-color: #f0f8ff;}#sk-container-id-1 input.sk-toggleable__control:checked~div.sk-toggleable__content {max-height: 200px;max-width: 100%;overflow: auto;}#sk-container-id-1 input.sk-toggleable__control:checked~label.sk-toggleable__label-arrow:before {content: \"▾\";}#sk-container-id-1 div.sk-estimator input.sk-toggleable__control:checked~label.sk-toggleable__label {background-color: #d4ebff;}#sk-container-id-1 div.sk-label input.sk-toggleable__control:checked~label.sk-toggleable__label {background-color: #d4ebff;}#sk-container-id-1 input.sk-hidden--visually {border: 0;clip: rect(1px 1px 1px 1px);clip: rect(1px, 1px, 1px, 1px);height: 1px;margin: -1px;overflow: hidden;padding: 0;position: absolute;width: 1px;}#sk-container-id-1 div.sk-estimator {font-family: monospace;background-color: #f0f8ff;border: 1px dotted black;border-radius: 0.25em;box-sizing: border-box;margin-bottom: 0.5em;}#sk-container-id-1 div.sk-estimator:hover {background-color: #d4ebff;}#sk-container-id-1 div.sk-parallel-item::after {content: \"\";width: 100%;border-bottom: 1px solid gray;flex-grow: 1;}#sk-container-id-1 div.sk-label:hover label.sk-toggleable__label {background-color: #d4ebff;}#sk-container-id-1 div.sk-serial::before {content: \"\";position: absolute;border-left: 1px solid gray;box-sizing: border-box;top: 0;bottom: 0;left: 50%;z-index: 0;}#sk-container-id-1 div.sk-serial {display: flex;flex-direction: column;align-items: center;background-color: white;padding-right: 0.2em;padding-left: 0.2em;position: relative;}#sk-container-id-1 div.sk-item {position: relative;z-index: 1;}#sk-container-id-1 div.sk-parallel {display: flex;align-items: stretch;justify-content: center;background-color: white;position: relative;}#sk-container-id-1 div.sk-item::before, #sk-container-id-1 div.sk-parallel-item::before {content: \"\";position: absolute;border-left: 1px solid gray;box-sizing: border-box;top: 0;bottom: 0;left: 50%;z-index: -1;}#sk-container-id-1 div.sk-parallel-item {display: flex;flex-direction: column;z-index: 1;position: relative;background-color: white;}#sk-container-id-1 div.sk-parallel-item:first-child::after {align-self: flex-end;width: 50%;}#sk-container-id-1 div.sk-parallel-item:last-child::after {align-self: flex-start;width: 50%;}#sk-container-id-1 div.sk-parallel-item:only-child::after {width: 0;}#sk-container-id-1 div.sk-dashed-wrapped {border: 1px dashed gray;margin: 0 0.4em 0.5em 0.4em;box-sizing: border-box;padding-bottom: 0.4em;background-color: white;}#sk-container-id-1 div.sk-label label {font-family: monospace;font-weight: bold;display: inline-block;line-height: 1.2em;}#sk-container-id-1 div.sk-label-container {text-align: center;}#sk-container-id-1 div.sk-container {/* jupyter's `normalize.less` sets `[hidden] { display: none; }` but bootstrap.min.css set `[hidden] { display: none !important; }` so we also need the `!important` here to be able to override the default hidden behavior on the sphinx rendered scikit-learn.org. See: https://github.com/scikit-learn/scikit-learn/issues/21755 */display: inline-block !important;position: relative;}#sk-container-id-1 div.sk-text-repr-fallback {display: none;}</style><div id=\"sk-container-id-1\" class=\"sk-top-container\"><div class=\"sk-text-repr-fallback\"><pre>Pipeline(steps=[(&#x27;col_trans&#x27;,\n",
              "                 ColumnTransformer(remainder=&#x27;passthrough&#x27;,\n",
              "                                   transformers=[(&#x27;gender_ordinal_encoder&#x27;,\n",
              "                                                  OrdinalEncoder(),\n",
              "                                                  [&#x27;gender&#x27;]),\n",
              "                                                 (&#x27;questions_word_count&#x27;,\n",
              "                                                  CountVectorizerSumTransformer(),\n",
              "                                                  &#x27;question&#x27;),\n",
              "                                                 (&#x27;answers_word_count&#x27;,\n",
              "                                                  WordsCountTransformer(),\n",
              "                                                  [&#x27;answer1&#x27;, &#x27;answer2&#x27;,\n",
              "                                                   &#x27;answer3&#x27;, &#x27;answer4&#x27;])])),\n",
              "                (&#x27;scaler&#x27;, StandardScaler()),\n",
              "                (&#x27;classifier&#x27;, KNeighborsClassifier(n_neighbors=7))])</pre><b>In a Jupyter environment, please rerun this cell to show the HTML representation or trust the notebook. <br />On GitHub, the HTML representation is unable to render, please try loading this page with nbviewer.org.</b></div><div class=\"sk-container\" hidden><div class=\"sk-item sk-dashed-wrapped\"><div class=\"sk-label-container\"><div class=\"sk-label sk-toggleable\"><input class=\"sk-toggleable__control sk-hidden--visually\" id=\"sk-estimator-id-1\" type=\"checkbox\" ><label for=\"sk-estimator-id-1\" class=\"sk-toggleable__label sk-toggleable__label-arrow\">Pipeline</label><div class=\"sk-toggleable__content\"><pre>Pipeline(steps=[(&#x27;col_trans&#x27;,\n",
              "                 ColumnTransformer(remainder=&#x27;passthrough&#x27;,\n",
              "                                   transformers=[(&#x27;gender_ordinal_encoder&#x27;,\n",
              "                                                  OrdinalEncoder(),\n",
              "                                                  [&#x27;gender&#x27;]),\n",
              "                                                 (&#x27;questions_word_count&#x27;,\n",
              "                                                  CountVectorizerSumTransformer(),\n",
              "                                                  &#x27;question&#x27;),\n",
              "                                                 (&#x27;answers_word_count&#x27;,\n",
              "                                                  WordsCountTransformer(),\n",
              "                                                  [&#x27;answer1&#x27;, &#x27;answer2&#x27;,\n",
              "                                                   &#x27;answer3&#x27;, &#x27;answer4&#x27;])])),\n",
              "                (&#x27;scaler&#x27;, StandardScaler()),\n",
              "                (&#x27;classifier&#x27;, KNeighborsClassifier(n_neighbors=7))])</pre></div></div></div><div class=\"sk-serial\"><div class=\"sk-item sk-dashed-wrapped\"><div class=\"sk-label-container\"><div class=\"sk-label sk-toggleable\"><input class=\"sk-toggleable__control sk-hidden--visually\" id=\"sk-estimator-id-2\" type=\"checkbox\" ><label for=\"sk-estimator-id-2\" class=\"sk-toggleable__label sk-toggleable__label-arrow\">col_trans: ColumnTransformer</label><div class=\"sk-toggleable__content\"><pre>ColumnTransformer(remainder=&#x27;passthrough&#x27;,\n",
              "                  transformers=[(&#x27;gender_ordinal_encoder&#x27;, OrdinalEncoder(),\n",
              "                                 [&#x27;gender&#x27;]),\n",
              "                                (&#x27;questions_word_count&#x27;,\n",
              "                                 CountVectorizerSumTransformer(), &#x27;question&#x27;),\n",
              "                                (&#x27;answers_word_count&#x27;, WordsCountTransformer(),\n",
              "                                 [&#x27;answer1&#x27;, &#x27;answer2&#x27;, &#x27;answer3&#x27;, &#x27;answer4&#x27;])])</pre></div></div></div><div class=\"sk-parallel\"><div class=\"sk-parallel-item\"><div class=\"sk-item\"><div class=\"sk-label-container\"><div class=\"sk-label sk-toggleable\"><input class=\"sk-toggleable__control sk-hidden--visually\" id=\"sk-estimator-id-3\" type=\"checkbox\" ><label for=\"sk-estimator-id-3\" class=\"sk-toggleable__label sk-toggleable__label-arrow\">gender_ordinal_encoder</label><div class=\"sk-toggleable__content\"><pre>[&#x27;gender&#x27;]</pre></div></div></div><div class=\"sk-serial\"><div class=\"sk-item\"><div class=\"sk-estimator sk-toggleable\"><input class=\"sk-toggleable__control sk-hidden--visually\" id=\"sk-estimator-id-4\" type=\"checkbox\" ><label for=\"sk-estimator-id-4\" class=\"sk-toggleable__label sk-toggleable__label-arrow\">OrdinalEncoder</label><div class=\"sk-toggleable__content\"><pre>OrdinalEncoder()</pre></div></div></div></div></div></div><div class=\"sk-parallel-item\"><div class=\"sk-item\"><div class=\"sk-label-container\"><div class=\"sk-label sk-toggleable\"><input class=\"sk-toggleable__control sk-hidden--visually\" id=\"sk-estimator-id-5\" type=\"checkbox\" ><label for=\"sk-estimator-id-5\" class=\"sk-toggleable__label sk-toggleable__label-arrow\">questions_word_count</label><div class=\"sk-toggleable__content\"><pre>question</pre></div></div></div><div class=\"sk-serial\"><div class=\"sk-item\"><div class=\"sk-estimator sk-toggleable\"><input class=\"sk-toggleable__control sk-hidden--visually\" id=\"sk-estimator-id-6\" type=\"checkbox\" ><label for=\"sk-estimator-id-6\" class=\"sk-toggleable__label sk-toggleable__label-arrow\">CountVectorizerSumTransformer</label><div class=\"sk-toggleable__content\"><pre>CountVectorizerSumTransformer()</pre></div></div></div></div></div></div><div class=\"sk-parallel-item\"><div class=\"sk-item\"><div class=\"sk-label-container\"><div class=\"sk-label sk-toggleable\"><input class=\"sk-toggleable__control sk-hidden--visually\" id=\"sk-estimator-id-7\" type=\"checkbox\" ><label for=\"sk-estimator-id-7\" class=\"sk-toggleable__label sk-toggleable__label-arrow\">answers_word_count</label><div class=\"sk-toggleable__content\"><pre>[&#x27;answer1&#x27;, &#x27;answer2&#x27;, &#x27;answer3&#x27;, &#x27;answer4&#x27;]</pre></div></div></div><div class=\"sk-serial\"><div class=\"sk-item\"><div class=\"sk-estimator sk-toggleable\"><input class=\"sk-toggleable__control sk-hidden--visually\" id=\"sk-estimator-id-8\" type=\"checkbox\" ><label for=\"sk-estimator-id-8\" class=\"sk-toggleable__label sk-toggleable__label-arrow\">WordsCountTransformer</label><div class=\"sk-toggleable__content\"><pre>WordsCountTransformer()</pre></div></div></div></div></div></div><div class=\"sk-parallel-item\"><div class=\"sk-item\"><div class=\"sk-label-container\"><div class=\"sk-label sk-toggleable\"><input class=\"sk-toggleable__control sk-hidden--visually\" id=\"sk-estimator-id-9\" type=\"checkbox\" ><label for=\"sk-estimator-id-9\" class=\"sk-toggleable__label sk-toggleable__label-arrow\">remainder</label><div class=\"sk-toggleable__content\"><pre>[&#x27;avg_time&#x27;, &#x27;avg_correct&#x27;, &#x27;total_time&#x27;]</pre></div></div></div><div class=\"sk-serial\"><div class=\"sk-item\"><div class=\"sk-estimator sk-toggleable\"><input class=\"sk-toggleable__control sk-hidden--visually\" id=\"sk-estimator-id-10\" type=\"checkbox\" ><label for=\"sk-estimator-id-10\" class=\"sk-toggleable__label sk-toggleable__label-arrow\">passthrough</label><div class=\"sk-toggleable__content\"><pre>passthrough</pre></div></div></div></div></div></div></div></div><div class=\"sk-item\"><div class=\"sk-estimator sk-toggleable\"><input class=\"sk-toggleable__control sk-hidden--visually\" id=\"sk-estimator-id-11\" type=\"checkbox\" ><label for=\"sk-estimator-id-11\" class=\"sk-toggleable__label sk-toggleable__label-arrow\">StandardScaler</label><div class=\"sk-toggleable__content\"><pre>StandardScaler()</pre></div></div></div><div class=\"sk-item\"><div class=\"sk-estimator sk-toggleable\"><input class=\"sk-toggleable__control sk-hidden--visually\" id=\"sk-estimator-id-12\" type=\"checkbox\" ><label for=\"sk-estimator-id-12\" class=\"sk-toggleable__label sk-toggleable__label-arrow\">KNeighborsClassifier</label><div class=\"sk-toggleable__content\"><pre>KNeighborsClassifier(n_neighbors=7)</pre></div></div></div></div></div></div></div>"
            ]
          },
          "metadata": {},
          "execution_count": 5
        }
      ]
    }
  ]
}