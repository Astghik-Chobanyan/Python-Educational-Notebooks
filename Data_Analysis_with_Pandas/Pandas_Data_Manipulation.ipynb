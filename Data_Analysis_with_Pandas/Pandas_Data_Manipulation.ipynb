{
  "cells": [
    {
      "cell_type": "code",
      "execution_count": null,
      "metadata": {
        "id": "3Vn0GtnroyLK",
        "colab": {
          "base_uri": "https://localhost:8080/"
        },
        "outputId": "e3ab6fac-555d-40bf-b65c-e6dee86de61d"
      },
      "outputs": [
        {
          "output_type": "stream",
          "name": "stderr",
          "text": [
            "/usr/local/lib/python3.9/dist-packages/sklearn/datasets/_openml.py:932: FutureWarning: The default value of `parser` will change from `'liac-arff'` to `'auto'` in 1.4. You can set `parser='auto'` to silence this warning. Therefore, an `ImportError` will be raised from 1.4 if the dataset is dense and pandas is not installed. Note that the pandas parser may return different data types. See the Notes Section in fetch_openml's API doc for details.\n",
            "  warn(\n"
          ]
        }
      ],
      "source": [
        "import numpy as np\n",
        "import pandas as pd\n",
        "\n",
        "from sklearn.datasets import load_iris, fetch_openml\n",
        "iris = load_iris()\n",
        "\n",
        "titanic = fetch_openml(name='Titanic', version=1)\n",
        "titanic = pd.concat([titanic['data'], titanic['target']], axis=1)"
      ]
    },
    {
      "cell_type": "markdown",
      "metadata": {
        "id": "t70K4JxC_DjO"
      },
      "source": [
        "# Iris plants dataset\n",
        "\n",
        "**Data Set Characteristics:**\n",
        "\n",
        "    :Number of Instances: 150 (50 in each of three classes)\n",
        "    :Number of Attributes: 4 numeric, predictive attributes and the class\n",
        "    :Attribute Information:\n",
        "        - sepal length in cm\n",
        "        - sepal width in cm\n",
        "        - petal length in cm\n",
        "        - petal width in cm\n",
        "        - class:\n",
        "                - Iris-Setosa\n",
        "                - Iris-Versicolour\n",
        "                - Iris-Virginica"
      ]
    },
    {
      "cell_type": "markdown",
      "metadata": {
        "id": "1WbPDB3mI7MO"
      },
      "source": [
        "**Problem 1.⭐**\n",
        "After running the box below, the following variables will be created:\n",
        "\n",
        "* data $\\rightarrow$ $150 \\times 4$ numpy array\n",
        "\n",
        "* list of feature_names $\\rightarrow$ strings consisting of 4 elements\n",
        "\n",
        "* target $\\rightarrow$ numpy array of size $150$\n",
        "\n",
        "* target_names $\\rightarrow$ list of strings consisting of 3 elements.\n",
        "\n",
        "  It is required to write a ``get_data_frame'' function that will create a pandas DataFrame with 5 columns and 150 rows such that\n",
        "\n",
        "  * the contents of the ``data'' variable should be written in the first 4 columns, and the names of the columns should be the elements of 'feature_names' (in the given order)\n",
        "  * and the fifth column, called \"target name\", should have ``target`` in the column, but instead of each number, the element with the corresponding index of ``target_names'' should be written.\n",
        "\n",
        "The first 5 rows of the final DataFrame will look like this:\n",
        "```\n",
        "\tsepal length (cm)\tsepal width (cm)\tpetal length (cm)\tpetal width (cm)\ttarget name\n",
        "0\t     5.1             \t3.5\t                1.4\t           0.2\t          setosa\n",
        "1\t     4.9            \t 3.0                \t1.4           \t0.2\t          setosa\n",
        "2\t     4.7             \t3.2                \t1.3           \t0.2\t          setosa\n",
        "3\t     4.6\t             3.1                \t1.5           \t0.2\t          setosa\n",
        "4\t     5.0             \t3.6                \t1.4           \t0.2\t          setosa\n",
        "```\n",
        "\n",
        "**The resulting DataFrame will be used in subsequent problems**։\n"
      ]
    },
    {
      "cell_type": "code",
      "execution_count": null,
      "metadata": {
        "id": "2V9dAiZOqhOy"
      },
      "outputs": [],
      "source": [
        "def get_data_frame(data, feature_names, target, target_names):\n",
        "  df = pd.DataFrame(data=data, columns=feature_names)\n",
        "  df['target_name'] = target_names[target]\n",
        "  return df"
      ]
    },
    {
      "cell_type": "code",
      "execution_count": null,
      "metadata": {
        "colab": {
          "base_uri": "https://localhost:8080/",
          "height": 423
        },
        "id": "cTN0Ve60jEqT",
        "outputId": "bfed62bb-b93e-4bb8-ef4b-8894244209b9"
      },
      "outputs": [
        {
          "output_type": "execute_result",
          "data": {
            "text/plain": [
              "     sepal length (cm)  sepal width (cm)  petal length (cm)  petal width (cm)  \\\n",
              "0                  5.1               3.5                1.4               0.2   \n",
              "1                  4.9               3.0                1.4               0.2   \n",
              "2                  4.7               3.2                1.3               0.2   \n",
              "3                  4.6               3.1                1.5               0.2   \n",
              "4                  5.0               3.6                1.4               0.2   \n",
              "..                 ...               ...                ...               ...   \n",
              "145                6.7               3.0                5.2               2.3   \n",
              "146                6.3               2.5                5.0               1.9   \n",
              "147                6.5               3.0                5.2               2.0   \n",
              "148                6.2               3.4                5.4               2.3   \n",
              "149                5.9               3.0                5.1               1.8   \n",
              "\n",
              "    target_name  \n",
              "0        setosa  \n",
              "1        setosa  \n",
              "2        setosa  \n",
              "3        setosa  \n",
              "4        setosa  \n",
              "..          ...  \n",
              "145   virginica  \n",
              "146   virginica  \n",
              "147   virginica  \n",
              "148   virginica  \n",
              "149   virginica  \n",
              "\n",
              "[150 rows x 5 columns]"
            ],
            "text/html": [
              "\n",
              "  <div id=\"df-eb25eb7d-3427-4544-9304-0d85d225f6c7\">\n",
              "    <div class=\"colab-df-container\">\n",
              "      <div>\n",
              "<style scoped>\n",
              "    .dataframe tbody tr th:only-of-type {\n",
              "        vertical-align: middle;\n",
              "    }\n",
              "\n",
              "    .dataframe tbody tr th {\n",
              "        vertical-align: top;\n",
              "    }\n",
              "\n",
              "    .dataframe thead th {\n",
              "        text-align: right;\n",
              "    }\n",
              "</style>\n",
              "<table border=\"1\" class=\"dataframe\">\n",
              "  <thead>\n",
              "    <tr style=\"text-align: right;\">\n",
              "      <th></th>\n",
              "      <th>sepal length (cm)</th>\n",
              "      <th>sepal width (cm)</th>\n",
              "      <th>petal length (cm)</th>\n",
              "      <th>petal width (cm)</th>\n",
              "      <th>target_name</th>\n",
              "    </tr>\n",
              "  </thead>\n",
              "  <tbody>\n",
              "    <tr>\n",
              "      <th>0</th>\n",
              "      <td>5.1</td>\n",
              "      <td>3.5</td>\n",
              "      <td>1.4</td>\n",
              "      <td>0.2</td>\n",
              "      <td>setosa</td>\n",
              "    </tr>\n",
              "    <tr>\n",
              "      <th>1</th>\n",
              "      <td>4.9</td>\n",
              "      <td>3.0</td>\n",
              "      <td>1.4</td>\n",
              "      <td>0.2</td>\n",
              "      <td>setosa</td>\n",
              "    </tr>\n",
              "    <tr>\n",
              "      <th>2</th>\n",
              "      <td>4.7</td>\n",
              "      <td>3.2</td>\n",
              "      <td>1.3</td>\n",
              "      <td>0.2</td>\n",
              "      <td>setosa</td>\n",
              "    </tr>\n",
              "    <tr>\n",
              "      <th>3</th>\n",
              "      <td>4.6</td>\n",
              "      <td>3.1</td>\n",
              "      <td>1.5</td>\n",
              "      <td>0.2</td>\n",
              "      <td>setosa</td>\n",
              "    </tr>\n",
              "    <tr>\n",
              "      <th>4</th>\n",
              "      <td>5.0</td>\n",
              "      <td>3.6</td>\n",
              "      <td>1.4</td>\n",
              "      <td>0.2</td>\n",
              "      <td>setosa</td>\n",
              "    </tr>\n",
              "    <tr>\n",
              "      <th>...</th>\n",
              "      <td>...</td>\n",
              "      <td>...</td>\n",
              "      <td>...</td>\n",
              "      <td>...</td>\n",
              "      <td>...</td>\n",
              "    </tr>\n",
              "    <tr>\n",
              "      <th>145</th>\n",
              "      <td>6.7</td>\n",
              "      <td>3.0</td>\n",
              "      <td>5.2</td>\n",
              "      <td>2.3</td>\n",
              "      <td>virginica</td>\n",
              "    </tr>\n",
              "    <tr>\n",
              "      <th>146</th>\n",
              "      <td>6.3</td>\n",
              "      <td>2.5</td>\n",
              "      <td>5.0</td>\n",
              "      <td>1.9</td>\n",
              "      <td>virginica</td>\n",
              "    </tr>\n",
              "    <tr>\n",
              "      <th>147</th>\n",
              "      <td>6.5</td>\n",
              "      <td>3.0</td>\n",
              "      <td>5.2</td>\n",
              "      <td>2.0</td>\n",
              "      <td>virginica</td>\n",
              "    </tr>\n",
              "    <tr>\n",
              "      <th>148</th>\n",
              "      <td>6.2</td>\n",
              "      <td>3.4</td>\n",
              "      <td>5.4</td>\n",
              "      <td>2.3</td>\n",
              "      <td>virginica</td>\n",
              "    </tr>\n",
              "    <tr>\n",
              "      <th>149</th>\n",
              "      <td>5.9</td>\n",
              "      <td>3.0</td>\n",
              "      <td>5.1</td>\n",
              "      <td>1.8</td>\n",
              "      <td>virginica</td>\n",
              "    </tr>\n",
              "  </tbody>\n",
              "</table>\n",
              "<p>150 rows × 5 columns</p>\n",
              "</div>\n",
              "      <button class=\"colab-df-convert\" onclick=\"convertToInteractive('df-eb25eb7d-3427-4544-9304-0d85d225f6c7')\"\n",
              "              title=\"Convert this dataframe to an interactive table.\"\n",
              "              style=\"display:none;\">\n",
              "        \n",
              "  <svg xmlns=\"http://www.w3.org/2000/svg\" height=\"24px\"viewBox=\"0 0 24 24\"\n",
              "       width=\"24px\">\n",
              "    <path d=\"M0 0h24v24H0V0z\" fill=\"none\"/>\n",
              "    <path d=\"M18.56 5.44l.94 2.06.94-2.06 2.06-.94-2.06-.94-.94-2.06-.94 2.06-2.06.94zm-11 1L8.5 8.5l.94-2.06 2.06-.94-2.06-.94L8.5 2.5l-.94 2.06-2.06.94zm10 10l.94 2.06.94-2.06 2.06-.94-2.06-.94-.94-2.06-.94 2.06-2.06.94z\"/><path d=\"M17.41 7.96l-1.37-1.37c-.4-.4-.92-.59-1.43-.59-.52 0-1.04.2-1.43.59L10.3 9.45l-7.72 7.72c-.78.78-.78 2.05 0 2.83L4 21.41c.39.39.9.59 1.41.59.51 0 1.02-.2 1.41-.59l7.78-7.78 2.81-2.81c.8-.78.8-2.07 0-2.86zM5.41 20L4 18.59l7.72-7.72 1.47 1.35L5.41 20z\"/>\n",
              "  </svg>\n",
              "      </button>\n",
              "      \n",
              "  <style>\n",
              "    .colab-df-container {\n",
              "      display:flex;\n",
              "      flex-wrap:wrap;\n",
              "      gap: 12px;\n",
              "    }\n",
              "\n",
              "    .colab-df-convert {\n",
              "      background-color: #E8F0FE;\n",
              "      border: none;\n",
              "      border-radius: 50%;\n",
              "      cursor: pointer;\n",
              "      display: none;\n",
              "      fill: #1967D2;\n",
              "      height: 32px;\n",
              "      padding: 0 0 0 0;\n",
              "      width: 32px;\n",
              "    }\n",
              "\n",
              "    .colab-df-convert:hover {\n",
              "      background-color: #E2EBFA;\n",
              "      box-shadow: 0px 1px 2px rgba(60, 64, 67, 0.3), 0px 1px 3px 1px rgba(60, 64, 67, 0.15);\n",
              "      fill: #174EA6;\n",
              "    }\n",
              "\n",
              "    [theme=dark] .colab-df-convert {\n",
              "      background-color: #3B4455;\n",
              "      fill: #D2E3FC;\n",
              "    }\n",
              "\n",
              "    [theme=dark] .colab-df-convert:hover {\n",
              "      background-color: #434B5C;\n",
              "      box-shadow: 0px 1px 3px 1px rgba(0, 0, 0, 0.15);\n",
              "      filter: drop-shadow(0px 1px 2px rgba(0, 0, 0, 0.3));\n",
              "      fill: #FFFFFF;\n",
              "    }\n",
              "  </style>\n",
              "\n",
              "      <script>\n",
              "        const buttonEl =\n",
              "          document.querySelector('#df-eb25eb7d-3427-4544-9304-0d85d225f6c7 button.colab-df-convert');\n",
              "        buttonEl.style.display =\n",
              "          google.colab.kernel.accessAllowed ? 'block' : 'none';\n",
              "\n",
              "        async function convertToInteractive(key) {\n",
              "          const element = document.querySelector('#df-eb25eb7d-3427-4544-9304-0d85d225f6c7');\n",
              "          const dataTable =\n",
              "            await google.colab.kernel.invokeFunction('convertToInteractive',\n",
              "                                                     [key], {});\n",
              "          if (!dataTable) return;\n",
              "\n",
              "          const docLinkHtml = 'Like what you see? Visit the ' +\n",
              "            '<a target=\"_blank\" href=https://colab.research.google.com/notebooks/data_table.ipynb>data table notebook</a>'\n",
              "            + ' to learn more about interactive tables.';\n",
              "          element.innerHTML = '';\n",
              "          dataTable['output_type'] = 'display_data';\n",
              "          await google.colab.output.renderOutput(dataTable, element);\n",
              "          const docLink = document.createElement('div');\n",
              "          docLink.innerHTML = docLinkHtml;\n",
              "          element.appendChild(docLink);\n",
              "        }\n",
              "      </script>\n",
              "    </div>\n",
              "  </div>\n",
              "  "
            ]
          },
          "metadata": {},
          "execution_count": 4
        }
      ],
      "source": [
        "df = get_data_frame(data=iris['data'],\n",
        "                    feature_names=iris['feature_names'],\n",
        "                    target=iris['target'],\n",
        "                    target_names=iris['target_names'])\n",
        "df"
      ]
    },
    {
      "cell_type": "markdown",
      "metadata": {
        "id": "IqlAUvbTO2Lo"
      },
      "source": [
        "**Problem 2.⭐⭐** In the ``df'' table obtained in the previous question, the length and width of the flower petals (corolla and sepal) and the corresponding flower number are written. {'setosa', 'versicolor', 'virginica'} species coded with {0,1,2} numbers.\n",
        "\n",
        "![picture](https://encrypted-tbn0.gstatic.com/images?q=tbn%3AANd9GcRaU43Ra3xTYTpU2XLBw5yl20Qty3OCJzjDBw&usqp=CAU)\n",
        "\n",
        "Create a function called ``get_stats'' that, using the ``pd.group_by'' function, will count the number of petals (petals and sepals) of each flower type.\n",
        "\n",
        "1. average length\n",
        "2. the average width\n",
        "3. Minimum length\n",
        "4. Minimum width\n",
        "5. Maximum length\n",
        "6. Maximum width\n",
        "\n",
        "and will return a pandas DataFrame with the columns as the result\n",
        "\n",
        "```python\n",
        "[\"mean sepal length (cm)\", \"mean petal length (cm)\", \"mean sepal width (cm)\", \"mean petal width (cm)\", \"min sepal length (cm)\", \"min petal length (cm)\", \"min sepal width (cm)\", \"min petal width (cm)\", \"max sepal length (cm)\", \"max petal length (cm)\", \"max sepal width (cm)\", \"max petal width (cm)\"]\n",
        "```\n",
        "and the types of flowers will be the index names."
      ]
    },
    {
      "cell_type": "code",
      "execution_count": null,
      "metadata": {
        "id": "eVIqC81LO2QW"
      },
      "outputs": [],
      "source": [
        "def get_stats(df):\n",
        "  column_names = [\"mean sepal length (cm)\", \"mean sepal width (cm)\", \"mean petal length (cm)\", \"mean petal width (cm)\", \"min sepal length (cm)\", \"min sepal width (cm)\", \"min petal length (cm)\", \"min petal width (cm)\", \"max sepal length (cm)\", \"max sepal width (cm)\", \"max petal length (cm)\", \"max petal width (cm)\"]\n",
        "  grouped_df = df.groupby(by=['target_name'])\n",
        "  final_df = pd.concat([grouped_df.mean(),  grouped_df.max(), grouped_df.min()], axis=1)\n",
        "  final_df.columns = column_names\n",
        "  return final_df"
      ]
    },
    {
      "cell_type": "code",
      "execution_count": null,
      "metadata": {
        "colab": {
          "base_uri": "https://localhost:8080/"
        },
        "id": "tnLzQbGrO2U1",
        "outputId": "9749b1db-4070-40f9-d2e7-22a07e98d7fa"
      },
      "outputs": [
        {
          "output_type": "stream",
          "name": "stdout",
          "text": [
            "             mean sepal length (cm)  mean sepal width (cm)  \\\n",
            "target_name                                                  \n",
            "setosa                        5.006                  3.428   \n",
            "versicolor                    5.936                  2.770   \n",
            "virginica                     6.588                  2.974   \n",
            "\n",
            "             mean petal length (cm)  mean petal width (cm)  \\\n",
            "target_name                                                  \n",
            "setosa                        1.462                  0.246   \n",
            "versicolor                    4.260                  1.326   \n",
            "virginica                     5.552                  2.026   \n",
            "\n",
            "             min sepal length (cm)  min sepal width (cm)  \\\n",
            "target_name                                                \n",
            "setosa                         5.8                   4.4   \n",
            "versicolor                     7.0                   3.4   \n",
            "virginica                      7.9                   3.8   \n",
            "\n",
            "             min petal length (cm)  min petal width (cm)  \\\n",
            "target_name                                                \n",
            "setosa                         1.9                   0.6   \n",
            "versicolor                     5.1                   1.8   \n",
            "virginica                      6.9                   2.5   \n",
            "\n",
            "             max sepal length (cm)  max sepal width (cm)  \\\n",
            "target_name                                                \n",
            "setosa                         4.3                   2.3   \n",
            "versicolor                     4.9                   2.0   \n",
            "virginica                      4.9                   2.2   \n",
            "\n",
            "             max petal length (cm)  max petal width (cm)  \n",
            "target_name                                               \n",
            "setosa                         1.0                   0.1  \n",
            "versicolor                     3.0                   1.0  \n",
            "virginica                      4.5                   1.4  \n"
          ]
        }
      ],
      "source": [
        "df_stats = get_stats(df)\n",
        "print(df_stats)"
      ]
    },
    {
      "cell_type": "markdown",
      "metadata": {
        "id": "cd7-trlHcXxd"
      },
      "source": [
        "**Problem 3.⭐⭐** Add the ``remove_small_flowers`` function, which will delete from the ``df`` table those rows whose 'sepal width' is smaller than the average of its type (using ``df_stats'' calculations from the previous problem)."
      ]
    },
    {
      "cell_type": "code",
      "execution_count": null,
      "metadata": {
        "id": "17ayVp5WcX1g"
      },
      "outputs": [],
      "source": [
        "def remove_small_flowers(df, df_stats):\n",
        "  removed_df = df[df['sepal width (cm)'] >= df_stats.loc[df['target_name']]['mean sepal width (cm)'].values]\n",
        "  return removed_df"
      ]
    },
    {
      "cell_type": "code",
      "execution_count": null,
      "metadata": {
        "id": "cLg_LROYlRNd",
        "colab": {
          "base_uri": "https://localhost:8080/"
        },
        "outputId": "bbd2de89-38c7-4dab-cd2f-7f2f105abd13"
      },
      "outputs": [
        {
          "output_type": "stream",
          "name": "stdout",
          "text": [
            "     sepal length (cm)  sepal width (cm)  petal length (cm)  petal width (cm)  \\\n",
            "0                  5.1               3.5                1.4               0.2   \n",
            "4                  5.0               3.6                1.4               0.2   \n",
            "5                  5.4               3.9                1.7               0.4   \n",
            "10                 5.4               3.7                1.5               0.2   \n",
            "14                 5.8               4.0                1.2               0.2   \n",
            "..                 ...               ...                ...               ...   \n",
            "144                6.7               3.3                5.7               2.5   \n",
            "145                6.7               3.0                5.2               2.3   \n",
            "147                6.5               3.0                5.2               2.0   \n",
            "148                6.2               3.4                5.4               2.3   \n",
            "149                5.9               3.0                5.1               1.8   \n",
            "\n",
            "    target_name  \n",
            "0        setosa  \n",
            "4        setosa  \n",
            "5        setosa  \n",
            "10       setosa  \n",
            "14       setosa  \n",
            "..          ...  \n",
            "144   virginica  \n",
            "145   virginica  \n",
            "147   virginica  \n",
            "148   virginica  \n",
            "149   virginica  \n",
            "\n",
            "[80 rows x 5 columns]\n"
          ]
        }
      ],
      "source": [
        "df = remove_small_flowers(df, df_stats)\n",
        "print(df)"
      ]
    },
    {
      "cell_type": "markdown",
      "metadata": {
        "id": "D0Q-7KYO-_qL"
      },
      "source": [
        "# Titanic\n",
        "\n",
        "You can read about the Titanic dataset [here](https://www.kaggle.com/competitions/titanic/data)։"
      ]
    },
    {
      "cell_type": "markdown",
      "metadata": {
        "id": "xvN2Utl4Be_h"
      },
      "source": [
        "**Problem 4.⭐** Complete the ``problem4`` function so that it returns the data of men satisfying the following conditions as a dataframe,\n",
        "* whose full name contains the words ``ian`` or ``yan``,\n",
        "* whose pclass=3 and embarked=C"
      ]
    },
    {
      "cell_type": "code",
      "execution_count": null,
      "metadata": {
        "id": "K6zOHy2lGGwF"
      },
      "outputs": [],
      "source": [
        "def problem4(data):\n",
        "  return data.loc[data['name'].str.contains('ian|yan') & (data['pclass'] == 3) & (data['embarked'] == 'C')]"
      ]
    },
    {
      "cell_type": "code",
      "execution_count": null,
      "metadata": {
        "id": "LkldQaPTKAn8",
        "colab": {
          "base_uri": "https://localhost:8080/"
        },
        "outputId": "500d15b2-3d1b-4823-f06e-7f41321b2100"
      },
      "outputs": [
        {
          "output_type": "stream",
          "name": "stdout",
          "text": [
            "      pclass                                   name     sex   age  sibsp  \\\n",
            "647      3.0  Assaf Khalil, Mrs. Mariana ('Miriam')  female  45.0    0.0   \n",
            "941      3.0                  Krekorian, Mr. Neshan    male  25.0    0.0   \n",
            "994      3.0                Mardirosian, Mr. Sarkis    male   NaN    0.0   \n",
            "1201     3.0                  Sirayanian, Mr. Orsen    male  22.0    0.0   \n",
            "1277     3.0                   Vartanian, Mr. David    male  22.0    0.0   \n",
            "1306     3.0              Zakarian, Mr. Mapriededer    male  26.5    0.0   \n",
            "1307     3.0                    Zakarian, Mr. Ortin    male  27.0    0.0   \n",
            "\n",
            "      parch ticket    fare  cabin embarked   boat   body   home.dest survived  \n",
            "647     0.0   2696  7.2250   None        C      C    NaN  Ottawa, ON        1  \n",
            "941     0.0   2654  7.2292  F E57        C     10    NaN        None        1  \n",
            "994     0.0   2655  7.2292  F E46        C   None    NaN        None        0  \n",
            "1201    0.0   2669  7.2292   None        C   None    NaN        None        0  \n",
            "1277    0.0   2658  7.2250   None        C  13 15    NaN        None        1  \n",
            "1306    0.0   2656  7.2250   None        C   None  304.0        None        0  \n",
            "1307    0.0   2670  7.2250   None        C   None    NaN        None        0  \n"
          ]
        }
      ],
      "source": [
        "print(problem4(data=titanic))"
      ]
    },
    {
      "cell_type": "markdown",
      "metadata": {
        "id": "hmulthBcMHgY"
      },
      "source": [
        "**Problem 5.⭐⭐** Complete the function ``problem5`` which\n",
        "  * should return data for all passengers whose age data was missing from the original data as well\n",
        "\n",
        "* fill in missing ages according to the mean age of the corresponding pclass"
      ]
    },
    {
      "cell_type": "code",
      "execution_count": null,
      "metadata": {
        "id": "1ZkB10LytU2U"
      },
      "outputs": [],
      "source": [
        "def problem5(data):\n",
        "  nan_ages = titanic[titanic['age'].isna()]\n",
        "  titanic['age'].fillna(titanic.groupby(by=['pclass'])['age'].mean())\n",
        "  return nan_ages"
      ]
    },
    {
      "cell_type": "code",
      "execution_count": null,
      "metadata": {
        "id": "1fJWLeGEQtRT",
        "colab": {
          "base_uri": "https://localhost:8080/"
        },
        "outputId": "164622e7-b59c-474e-b367-bd9b49e031cf"
      },
      "outputs": [
        {
          "output_type": "stream",
          "name": "stdout",
          "text": [
            "      pclass                                               name     sex  age  \\\n",
            "15       1.0                                Baumann, Mr. John D    male  NaN   \n",
            "37       1.0      Bradley, Mr. George ('George Arthur Brayton')    male  NaN   \n",
            "40       1.0                          Brewe, Dr. Arthur Jackson    male  NaN   \n",
            "46       1.0                              Cairns, Mr. Alexander    male  NaN   \n",
            "59       1.0  Cassebeer, Mrs. Henry Arthur Jr (Eleanor Genev...  female  NaN   \n",
            "...      ...                                                ...     ...  ...   \n",
            "1293     3.0                  Williams, Mr. Howard Hugh 'Harry'    male  NaN   \n",
            "1297     3.0                             Wiseman, Mr. Phillippe    male  NaN   \n",
            "1302     3.0                                  Yousif, Mr. Wazli    male  NaN   \n",
            "1303     3.0                              Yousseff, Mr. Gerious    male  NaN   \n",
            "1305     3.0                              Zabour, Miss. Thamine  female  NaN   \n",
            "\n",
            "      sibsp  parch      ticket     fare cabin embarked  boat body  \\\n",
            "15      0.0    0.0    PC 17318  25.9250  None        S  None  NaN   \n",
            "37      0.0    0.0      111427  26.5500  None        S     9  NaN   \n",
            "40      0.0    0.0      112379  39.6000  None        C  None  NaN   \n",
            "46      0.0    0.0      113798  31.0000  None        S  None  NaN   \n",
            "59      0.0    0.0       17770  27.7208  None        C     5  NaN   \n",
            "...     ...    ...         ...      ...   ...      ...   ...  ...   \n",
            "1293    0.0    0.0    A/5 2466   8.0500  None        S  None  NaN   \n",
            "1297    0.0    0.0  A/4. 34244   7.2500  None        S  None  NaN   \n",
            "1302    0.0    0.0        2647   7.2250  None        C  None  NaN   \n",
            "1303    0.0    0.0        2627  14.4583  None        C  None  NaN   \n",
            "1305    1.0    0.0        2665  14.4542  None        C  None  NaN   \n",
            "\n",
            "             home.dest survived  \n",
            "15        New York, NY        0  \n",
            "37     Los Angeles, CA        1  \n",
            "40    Philadelphia, PA        0  \n",
            "46                None        0  \n",
            "59        New York, NY        1  \n",
            "...                ...      ...  \n",
            "1293              None        0  \n",
            "1297              None        0  \n",
            "1302              None        0  \n",
            "1303              None        0  \n",
            "1305              None        0  \n",
            "\n",
            "[263 rows x 14 columns]\n"
          ]
        }
      ],
      "source": [
        "print(problem5(data=titanic))"
      ]
    },
    {
      "cell_type": "markdown",
      "metadata": {
        "id": "s8qpbqG8_MZC"
      },
      "source": [
        "**Problem 6.⭐⭐** Complete the ``problem6`` function so that it returns such a dataframe, where instead of x there are the averages of the corresponding values of the survived characteristic.\n",
        "\n",
        "|pclass | sex  | avg(survived) |  \n",
        "|-----|--------| ------------- |\n",
        "|1    | male       |      x        |\n",
        "|2    | male       |      x        |\n",
        "|3    | male       |      x        |\n",
        "|1    | female       |      x        |\n",
        "|2    | female       |      x        |\n",
        "|3    | female       |      x        |\n"
      ]
    },
    {
      "cell_type": "code",
      "execution_count": null,
      "metadata": {
        "id": "EqJl7MDHAIKK"
      },
      "outputs": [],
      "source": [
        "def problem6(data):\n",
        "  data['numeric_survived'] = data['survived'].astype(int)\n",
        "  grouped_df = data.groupby(by=['pclass', 'sex'])\n",
        "  res_df = pd.DataFrame(grouped_df.groups.keys(), columns = ['pclass', 'sex'])\n",
        "  res_df['avg(survived)'] = grouped_df.mean()['numeric_survived'].values\n",
        "  return res_df"
      ]
    },
    {
      "cell_type": "code",
      "execution_count": null,
      "metadata": {
        "id": "EIrgWx6M_ZYJ",
        "colab": {
          "base_uri": "https://localhost:8080/"
        },
        "outputId": "b41b20a0-e346-44f0-f8f4-fe8322b971f1"
      },
      "outputs": [
        {
          "output_type": "stream",
          "name": "stdout",
          "text": [
            "   pclass     sex  avg(survived)\n",
            "0     1.0  female       0.965278\n",
            "1     1.0    male       0.340782\n",
            "2     2.0  female       0.886792\n",
            "3     2.0    male       0.146199\n",
            "4     3.0  female       0.490741\n",
            "5     3.0    male       0.152130\n"
          ]
        }
      ],
      "source": [
        "print(problem6(data=titanic))"
      ]
    },
    {
      "cell_type": "markdown",
      "metadata": {
        "id": "EQ0ne9cQtU61"
      },
      "source": [
        "**Problem 7.⭐⭐** Fill in the ``problem7`` function, which should return the columns with missing data by prefilling them as follows:\n",
        "* all columns with values in the first row must be filled in by taking the value immediately before the missing value\n",
        "* all columns with values in the last row must be filled by taking the value immediately after the missing value\n",
        "* if the above 2 conditions are met, then the missing values must be filled\n",
        "   * with the arithmetic mean of the values in the first and last rows (for numeric columns)\n",
        "   * with the first available data (not for numeric columns)\n",
        "* if the first 2 conditions are not fulfilled, then fill the missing data with the last available data of the given column."
      ]
    },
    {
      "cell_type": "code",
      "execution_count": null,
      "metadata": {
        "id": "LFrV1tK3tU_a"
      },
      "outputs": [],
      "source": [
        "def problem7(data):\n",
        "  nan_cols = data.columns[data.isna().any()].tolist()\n",
        "\n",
        "  for nan_col in nan_cols:\n",
        "    if pd.notnull(data.loc[0, nan_col]) and pd.notnull(data.loc[data.shape[0]-1, nan_col]):\n",
        "      if pd.api.types.is_numeric_dtype(data.loc[:,nan_col]):\n",
        "        first_val = data.loc[0, nan_col]\n",
        "        last_val = data.loc[df.shape[0]-1, nan_col]\n",
        "        data.loc[:, nan_col].fillna((first_val+last_val)/2, inplace=True)\n",
        "      else:\n",
        "        # first_not_nan_idx = data.loc[:,nan_col].first_valid_index()\n",
        "        # first_not_nan = data.loc[:,nan_col].loc[first_not_nan_idx]\n",
        "        data.loc[:, nan_col].fillna(data.loc[0, nan_col], inplace=True)\n",
        "    elif pd.notnull(data.loc[0, nan_col]):\n",
        "      data.loc[:, nan_col].fillna(method='ffill', inplace=True)\n",
        "    elif pd.notnull(data.loc[data.shape[0]-1, nan_col]):\n",
        "      data.loc[:, nan_col].fullna(method='bfill', inplace=True)\n",
        "    else:\n",
        "      last_not_nan = data.loc[data.last_valid_index()]\n",
        "      data.loc[:, nan_col].fillna(last_not_nan, inplace=True)\n",
        "\n",
        "  return nan_cols"
      ]
    },
    {
      "cell_type": "code",
      "execution_count": null,
      "metadata": {
        "id": "UxgmR92TtVEE",
        "colab": {
          "base_uri": "https://localhost:8080/"
        },
        "outputId": "63bb3f30-a6b3-4ca5-d09f-eb19aaf60b3a"
      },
      "outputs": [
        {
          "output_type": "stream",
          "name": "stdout",
          "text": [
            "['age', 'fare', 'cabin', 'embarked', 'boat', 'body', 'home.dest']\n"
          ]
        }
      ],
      "source": [
        "print(problem7(data=titanic))"
      ]
    },
    {
      "cell_type": "markdown",
      "metadata": {
        "id": "699W5CfqtVJc"
      },
      "source": [
        "**Problem 8.⭐⭐** Complete the function below so that it returns the ``titanic`` dataset with row length pandas.Series, where each row value is\n",
        "* the product of the length (excluding spaces) of the passenger name of that string, pclass, and age, if age is present, and\n",
        "* otherwise, the age of the passenger with the longest name in the total\n",
        ""
      ]
    },
    {
      "cell_type": "code",
      "execution_count": null,
      "metadata": {
        "id": "MWfcZlErSYjD"
      },
      "outputs": [],
      "source": [
        "def problem8(data):\n",
        "  res = pd.Series([np.nan] * data.shape[0], index=range(data.shape[0]))\n",
        "  not_nan_indices = data['age'].notnull().to_numpy().nonzero()[0]\n",
        "  name_lens = data.loc[not_nan_indices, 'name'].str.strip().str.replace(' ', '').apply(lambda x: len(x))\n",
        "  res[not_nan_indices] = name_lens * data.loc[not_nan_indices, 'pclass'] * data.loc[not_nan_indices, 'age']\n",
        "  fill_value = data.loc[name_lens.argmax(), 'age']\n",
        "  res.fillna(fill_value, inplace=True)\n",
        "\n",
        "  return res"
      ]
    },
    {
      "cell_type": "code",
      "execution_count": null,
      "metadata": {
        "id": "R6hh-s2FSYoY",
        "colab": {
          "base_uri": "https://localhost:8080/"
        },
        "outputId": "f5cbde8a-6ef6-4d08-9e55-1d4505cb2411"
      },
      "outputs": [
        {
          "output_type": "stream",
          "name": "stdout",
          "text": [
            "0        754.0000\n",
            "1         24.7509\n",
            "2         50.0000\n",
            "3        960.0000\n",
            "4       1000.0000\n",
            "          ...    \n",
            "1304     783.0000\n",
            "1305    2394.0000\n",
            "1306    1828.5000\n",
            "1307    1377.0000\n",
            "1308    1392.0000\n",
            "Length: 1309, dtype: float64\n"
          ]
        }
      ],
      "source": [
        "res = problem8(data=titanic)\n",
        "print(problem8(data=titanic))"
      ]
    },
    {
      "cell_type": "markdown",
      "metadata": {
        "id": "eeuEb2wrSYtG"
      },
      "source": [
        "**Problem 9.⭐⭐** The result of problem9 should be the arithmetic mean of the ages of the passengers who bought the most expensive ticket."
      ]
    },
    {
      "cell_type": "code",
      "execution_count": null,
      "metadata": {
        "id": "oyKEyhOUtVNe"
      },
      "outputs": [],
      "source": [
        "def problem9(data):\n",
        "  return data.loc[data['fare'][data['fare'] == data['fare'].max()].index, 'age'].mean()"
      ]
    },
    {
      "cell_type": "code",
      "execution_count": null,
      "metadata": {
        "id": "ZrhsQUMbSdCb",
        "colab": {
          "base_uri": "https://localhost:8080/"
        },
        "outputId": "83d986f1-565c-4c3c-891d-b91c5530a8b6"
      },
      "outputs": [
        {
          "output_type": "stream",
          "name": "stdout",
          "text": [
            "41.0\n"
          ]
        }
      ],
      "source": [
        "print(problem9(data=titanic))"
      ]
    },
    {
      "cell_type": "markdown",
      "metadata": {
        "id": "Sbvf308jSdHQ"
      },
      "source": [
        "**Problem 10.⭐⭐** Add the row you created in Problem 8 to the original data as the first column named \"Col1\".\n",
        "\n",
        "\n"
      ]
    },
    {
      "cell_type": "code",
      "execution_count": null,
      "metadata": {
        "id": "16BQRZI7byLO"
      },
      "outputs": [],
      "source": [
        "def problem10(data):\n",
        "  res = problem8(data)\n",
        "  data['Col1'] = res\n",
        "  return data"
      ]
    },
    {
      "cell_type": "code",
      "execution_count": null,
      "metadata": {
        "id": "BNx369ezbyPG",
        "colab": {
          "base_uri": "https://localhost:8080/"
        },
        "outputId": "ce36186b-8a1a-4c8d-ee7e-9944ce4686e6"
      },
      "outputs": [
        {
          "output_type": "stream",
          "name": "stdout",
          "text": [
            "      pclass                                             name     sex  \\\n",
            "0        1.0                    Allen, Miss. Elisabeth Walton  female   \n",
            "1        1.0                   Allison, Master. Hudson Trevor    male   \n",
            "2        1.0                     Allison, Miss. Helen Loraine  female   \n",
            "3        1.0             Allison, Mr. Hudson Joshua Creighton    male   \n",
            "4        1.0  Allison, Mrs. Hudson J C (Bessie Waldo Daniels)  female   \n",
            "...      ...                                              ...     ...   \n",
            "1304     3.0                             Zabour, Miss. Hileni  female   \n",
            "1305     3.0                            Zabour, Miss. Thamine  female   \n",
            "1306     3.0                        Zakarian, Mr. Mapriededer    male   \n",
            "1307     3.0                              Zakarian, Mr. Ortin    male   \n",
            "1308     3.0                               Zimmerman, Mr. Leo    male   \n",
            "\n",
            "          age  sibsp  parch  ticket      fare    cabin embarked boat   body  \\\n",
            "0     29.0000    0.0    0.0   24160  211.3375       B5        S    2    NaN   \n",
            "1      0.9167    1.0    2.0  113781  151.5500  C22 C26        S   11    NaN   \n",
            "2      2.0000    1.0    2.0  113781  151.5500  C22 C26        S   11    NaN   \n",
            "3     30.0000    1.0    2.0  113781  151.5500  C22 C26        S   11  135.0   \n",
            "4     25.0000    1.0    2.0  113781  151.5500  C22 C26        S   11    NaN   \n",
            "...       ...    ...    ...     ...       ...      ...      ...  ...    ...   \n",
            "1304  14.5000    1.0    0.0    2665   14.4542      F38        C    C  328.0   \n",
            "1305  42.0000    1.0    0.0    2665   14.4542      F38        C    C    NaN   \n",
            "1306  26.5000    0.0    0.0    2656    7.2250      F38        C    C  304.0   \n",
            "1307  27.0000    0.0    0.0    2670    7.2250      F38        C    C    NaN   \n",
            "1308  29.0000    0.0    0.0  315082    7.8750      F38        S    C    NaN   \n",
            "\n",
            "                            home.dest survived       Col1  \n",
            "0                        St Louis, MO        1   754.0000  \n",
            "1     Montreal, PQ / Chesterville, ON        1    24.7509  \n",
            "2     Montreal, PQ / Chesterville, ON        0    50.0000  \n",
            "3     Montreal, PQ / Chesterville, ON        0   960.0000  \n",
            "4     Montreal, PQ / Chesterville, ON        0  1000.0000  \n",
            "...                               ...      ...        ...  \n",
            "1304   Antwerp, Belgium / Stanton, OH        0   783.0000  \n",
            "1305   Antwerp, Belgium / Stanton, OH        0  2394.0000  \n",
            "1306   Antwerp, Belgium / Stanton, OH        0  1828.5000  \n",
            "1307   Antwerp, Belgium / Stanton, OH        0  1377.0000  \n",
            "1308   Antwerp, Belgium / Stanton, OH        0  1392.0000  \n",
            "\n",
            "[1309 rows x 15 columns]\n"
          ]
        }
      ],
      "source": [
        "print(problem10(data=titanic))"
      ]
    }
  ],
  "metadata": {
    "colab": {
      "provenance": []
    },
    "kernelspec": {
      "display_name": "Python 3",
      "language": "python",
      "name": "python3"
    },
    "language_info": {
      "codemirror_mode": {
        "name": "ipython",
        "version": 3
      },
      "file_extension": ".py",
      "mimetype": "text/x-python",
      "name": "python",
      "nbconvert_exporter": "python",
      "pygments_lexer": "ipython3",
      "version": "3.7.6"
    }
  },
  "nbformat": 4,
  "nbformat_minor": 0
}